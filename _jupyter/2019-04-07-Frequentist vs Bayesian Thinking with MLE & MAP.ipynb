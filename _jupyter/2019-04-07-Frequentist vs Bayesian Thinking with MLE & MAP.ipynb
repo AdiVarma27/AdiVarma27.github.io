{
 "cells": [
  {
   "cell_type": "markdown",
   "metadata": {},
   "source": [
    "# Frequentist vs Bayesian Thinking with MLE & MAP\n",
    "\n",
    "* In this post, lets us explore what MLE and MAP stand for, and how they derive as basis for solving probabilistic/ statistical parameter estimation for all distributions, and how these concepts can further be extrapolated to form basis for Probabilistic Classifiers.\n",
    "\n",
    "\n",
    "* We also take a look at Frequentist and Bayesian Approach towards learning/ estimating parameters to model real wold data.\n",
    "\n",
    "## Frequentist Approach to Bernoulli Process:\n",
    "\n",
    "* Let us start off with the n-Bernoulli trials, with chance of 'p', as number of Bernoulli trials increase over time. As we know, we can sample a single Bernoulli trial by setting n=1 in a Binomial distribution."
   ]
  },
  {
   "cell_type": "code",
   "execution_count": 181,
   "metadata": {},
   "outputs": [
    {
     "data": {
      "text/plain": [
       "1"
      ]
     },
     "execution_count": 181,
     "metadata": {},
     "output_type": "execute_result"
    }
   ],
   "source": [
    "import pandas as pd\n",
    "import numpy as np\n",
    "import seaborn as sns\n",
    "import matplotlib.pyplot as plt\n",
    "\n",
    "trial_1 = np.random.binomial(p=0.3, n=1)\n",
    "\n",
    "trial_1"
   ]
  },
  {
   "cell_type": "markdown",
   "metadata": {},
   "source": [
    "* Now, we sample 100,000 points from the same distribution, to understand our distribution. Remember, Frequentist approach towards a problem is by repeating the same experiment over and over. "
   ]
  },
  {
   "cell_type": "code",
   "execution_count": 182,
   "metadata": {},
   "outputs": [],
   "source": [
    "# 100000 independent Bernoulli trials\n",
    "\n",
    "trails_n = [np.random.binomial(p=0.3, n=1) for i in range(0,100000)]"
   ]
  },
  {
   "cell_type": "code",
   "execution_count": 183,
   "metadata": {},
   "outputs": [
    {
     "name": "stderr",
     "output_type": "stream",
     "text": [
      "/anaconda3/lib/python3.7/site-packages/scipy/stats/stats.py:1713: FutureWarning: Using a non-tuple sequence for multidimensional indexing is deprecated; use `arr[tuple(seq)]` instead of `arr[seq]`. In the future this will be interpreted as an array index, `arr[np.array(seq)]`, which will result either in an error or a different result.\n",
      "  return np.add.reduce(sorted[indexer] * weights, axis=axis) / sumval\n"
     ]
    },
    {
     "data": {
      "text/plain": [
       "<matplotlib.axes._subplots.AxesSubplot at 0x1a21b9c6a0>"
      ]
     },
     "execution_count": 183,
     "metadata": {},
     "output_type": "execute_result"
    },
    {
     "data": {
      "image/png": "[encoded data removed]",
      "text/plain": [
       "<Figure size 432x288 with 1 Axes>"
      ]
     },
     "metadata": {
      "needs_background": "light"
     },
     "output_type": "display_data"
    }
   ],
   "source": [
    "# Distribution plot\n",
    "\n",
    "sns.distplot(trails_n, kde=False)"
   ]
  },
  {
   "cell_type": "code",
   "execution_count": 184,
   "metadata": {},
   "outputs": [
    {
     "data": {
      "text/plain": [
       "0    69946\n",
       "1    30054\n",
       "Name: n, dtype: int64"
      ]
     },
     "execution_count": 184,
     "metadata": {},
     "output_type": "execute_result"
    }
   ],
   "source": [
    "# Frequencies of either class 0 or 1.\n",
    "\n",
    "frequencies = pd.DataFrame(trails_n, columns=['n']).n.value_counts()\n",
    "\n",
    "count_y0, count_y1 = frequencies[0], frequencies[1]\n",
    "\n",
    "# class label\n",
    "y0, y1 = 0, 1\n",
    "\n",
    "frequencies"
   ]
  },
  {
   "cell_type": "code",
   "execution_count": 185,
   "metadata": {},
   "outputs": [
    {
     "data": {
      "text/plain": [
       "0.30054"
      ]
     },
     "execution_count": 185,
     "metadata": {},
     "output_type": "execute_result"
    }
   ],
   "source": [
    "# Estimate of Maximum Likelihood is\n",
    "\n",
    "p = (y0*count_y0 + y1*count_y1)/(count_y0 + count_y1)\n",
    "p"
   ]
  },
  {
   "cell_type": "markdown",
   "metadata": {},
   "source": [
    "* The frequentist approach here is that after n-number of samples, we try to predict the parameter such that it fits the data-well. Essentially, we want to estimate parameters which best 'fit' our data.\n",
    "\n",
    "\n",
    "* In this case, we are not thinking of a 'prior', and just use the data well to figure out the parameter.\n",
    "\n",
    "## Binomial Distribution, pmf and MLE"
   ]
  },
  {
   "cell_type": "markdown",
   "metadata": {},
   "source": [
    "Suppose we have n-independent Bernoulli trials, each having the probability 'p' of class 1. Let 'k' be the number of successes in trials, then, the Pmf of Binomial distribution is as follows: \n",
    "\n",
    "$$Pmf: {\\binom {n}{k}}p^{k}(1-p)^{n-k}$$"
   ]
  },
  {
   "cell_type": "code",
   "execution_count": 186,
   "metadata": {},
   "outputs": [],
   "source": [
    "# SOURCE: https://stackoverflow.com/questions/4941753/is-there-a-math-ncr-function-in-python\n",
    "# Function to obtain nCr.\n",
    "\n",
    "import operator as op\n",
    "from functools import reduce\n",
    "\n",
    "def nCr(n, r):\n",
    "    r = min(r, n-r)\n",
    "    numer = reduce(op.mul, range(n, n-r, -1), 1)\n",
    "    denom = reduce(op.mul, range(1, r+1), 1)\n",
    "    return numer / denom\n",
    "\n",
    "def pltBinomialPmf(p, n):\n",
    "    q = 1-p\n",
    "    # new list for calculating pmf at different number of races.\n",
    "    pmf = []\n",
    "\n",
    "    # iterate over each race \n",
    "    for i in range(0,n):\n",
    "        pmf.append((nCr(n, i)*(p**i)*(q**(n-i))))\n",
    "    \n",
    "    plt.title(\"Probability Mass Function\")\n",
    "    plt.xlabel(\"Number of Trials\")\n",
    "    plt.plot(np.arange(0,n), pmf)"
   ]
  },
  {
   "cell_type": "code",
   "execution_count": 187,
   "metadata": {},
   "outputs": [
    {
     "data": {
      "image/png": "[encoded data removed]",
      "text/plain": [
       "<Figure size 432x288 with 1 Axes>"
      ]
     },
     "metadata": {
      "needs_background": "light"
     },
     "output_type": "display_data"
    }
   ],
   "source": [
    "pltBinomialPmf(0.3, 15)"
   ]
  },
  {
   "cell_type": "markdown",
   "metadata": {},
   "source": [
    "From the above equation for Pmf: ${\\binom {n}{k}}p^{k}(1-p)^{n-k}$, we can estimate the MLE (Maximum Likelihood Estimate)."
   ]
  },
  {
   "cell_type": "markdown",
   "metadata": {},
   "source": [
    "###### source: https://www.projectrhea.org/rhea/index.php/MLE_Examples:_Binomial_and_Poisson_Distributions_OldKiwi\n",
    "\n",
    "<img src=\"bayes1.png\" width=\"400\">\n",
    "\n",
    "Hence, the frequentist approach is essentially the average number of times a value occurs, across all trials. Remember, there is no prior information here, to estimate/ include in our model.\n",
    "\n",
    "<hr>"
   ]
  },
  {
   "cell_type": "markdown",
   "metadata": {},
   "source": [
    "# Bayesian Framework"
   ]
  },
  {
   "cell_type": "markdown",
   "metadata": {},
   "source": [
    "* We as humans start with some prior knowledge to infer or draw conclusions. Over time, the 'priors' may change, and with more evidence, tend to believe posterior probability more.\n",
    "\n",
    "\n",
    "* Say we toss a coin twice and both end up being heads (Heads, Heads); from a Frequentists perspective, the chance of tails occuring is 0; and assumes that the next coin toss will result in heads.\n",
    "\n",
    "\n",
    "* However, we do have prior knowledge, that eventually over time (in terms of sample size), the chance of getting heads will eventually fall at 0.5 for an unbiased coin. How do we know this ? Well, thats called the 'prior'.\n",
    "\n",
    "\n",
    "* From MLE, we know try to figure out the point estmate of ${\\theta}$, where \n",
    "\n",
    "$${\\theta MLE} = arg max {P(D/\\theta)}$$"
   ]
  },
  {
   "cell_type": "markdown",
   "metadata": {},
   "source": [
    "* For MAP, or the posterior probability which includes a 'prior' belief, \n",
    "\n",
    "$${\\theta MAP} = arg max   {P(\\theta/D)} = \\dfrac {likelihood * prior}  {evidence}$$\n",
    "\n",
    "### Conjugate Prior\n",
    "\n",
    "* To estimate MAP, we already have the ${P(D/\\theta)}$ (likelihood), and need to introduce a prior into the equation. We introduce a prior distribution for ${\\theta}$,\n",
    "where $${\\theta} ∼ {Beta(\\alpha, \\beta)}$$\n",
    "\n",
    "\n",
    "* We choose a Beta distribution for prior given the fact that out likelihood function is a Bernoulli distribution. (For coin toss example above). Using Beta prior will also turn the posterior into a Beta distribution as they are Conjugate pairs.\n",
    "\n",
    "\n",
    "$${P(\\theta/D)} ∝ {P(D/\\theta)} P(\\theta) $$\n",
    "\n",
    "$${P(\\theta/D)} ∝ {\\theta^{x} (1-\\theta)^x}{\\theta^{\\alpha-1}}({1-\\theta})^{\\beta-1}$$\n",
    "\n",
    "$${P(\\theta/D)} ∝ {\\theta^{\\alpha + x - 1} (1-\\theta)^{\\beta - x}}$$\n",
    "\n",
    "$$Hence, {P(\\theta/D)} ∼ Beta(\\alpha + x, \\beta - x + 1)$$\n",
    "\n",
    "## Sanity Check"
   ]
  },
  {
   "cell_type": "code",
   "execution_count": 238,
   "metadata": {},
   "outputs": [],
   "source": [
    "from scipy.stats import beta\n",
    "\n",
    "def plotBetaDist(a, b, alpha_param=0, beta_param=0):\n",
    "    x = np.arange (0.01, 1, 0.01)\n",
    "    y = beta.pdf(x,a+alpha_param,b-beta_param+1)\n",
    "    plt.plot(x,y)"
   ]
  },
  {
   "cell_type": "code",
   "execution_count": 243,
   "metadata": {},
   "outputs": [
    {
     "data": {
      "text/plain": [
       "[<matplotlib.lines.Line2D at 0x1a23fc8a20>]"
      ]
     },
     "execution_count": 243,
     "metadata": {},
     "output_type": "execute_result"
    },
    {
     "data": {
      "image/png": "[encoded data removed]",
      "text/plain": [
       "<Figure size 432x288 with 1 Axes>"
      ]
     },
     "metadata": {
      "needs_background": "light"
     },
     "output_type": "display_data"
    }
   ],
   "source": [
    "a=b=2\n",
    "x = np.arange (0.01, 1, 0.01)\n",
    "y = beta.pdf(x,a,b)\n",
    "plt.plot(x,y)"
   ]
  },
  {
   "cell_type": "code",
   "execution_count": null,
   "metadata": {},
   "outputs": [],
   "source": []
  }
 ],
 "metadata": {
  "kernelspec": {
   "display_name": "Python 3",
   "language": "python",
   "name": "python3"
  },
  "language_info": {
   "codemirror_mode": {
    "name": "ipython",
    "version": 3
   },
   "file_extension": ".py",
   "mimetype": "text/x-python",
   "name": "python",
   "nbconvert_exporter": "python",
   "pygments_lexer": "ipython3",
   "version": "3.7.1"
  }
 },
 "nbformat": 4,
 "nbformat_minor": 2
}
