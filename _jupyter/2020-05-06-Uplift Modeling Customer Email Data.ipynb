{
 "cells": [
  {
   "cell_type": "markdown",
   "metadata": {},
   "source": [
    "# Uplift Modeling Customer Email Data\n",
    "\n",
    "* In this notebook, we are going to explore [Kevin Hillstorm Email Marketing Dataset](https://blog.minethatdata.com/2008/03/minethatdata-e-mail-analytics-and-data.html), which contains <b>outcome (Visit, Conversion and Spend) for 64,000 customers, along with other attributes such as gender, channel, historical segment, recency and zip-code type, along with Actual Marketing segments.</b>\n",
    "\n",
    "\n",
    "* The dataset lays itself perfectly for <b>Uplift Modeling and Marketing Mixture Models</b>. Given we know treatment and control groups along with outcome and other features, we can choose customers for further targeting by using Uplift Modeling to maximize ROI. To understand individual contributing effects of these features towards Dollar amount spent, we can apply Mixture Models along with interesting interaction terms."
   ]
  },
  {
   "cell_type": "code",
   "execution_count": 1,
   "metadata": {},
   "outputs": [
    {
     "data": {
      "text/html": [
       "<div>\n",
       "<style scoped>\n",
       "    .dataframe tbody tr th:only-of-type {\n",
       "        vertical-align: middle;\n",
       "    }\n",
       "\n",
       "    .dataframe tbody tr th {\n",
       "        vertical-align: top;\n",
       "    }\n",
       "\n",
       "    .dataframe thead th {\n",
       "        text-align: right;\n",
       "    }\n",
       "</style>\n",
       "<table border=\"1\" class=\"dataframe\">\n",
       "  <thead>\n",
       "    <tr style=\"text-align: right;\">\n",
       "      <th></th>\n",
       "      <th>recency</th>\n",
       "      <th>history_segment</th>\n",
       "      <th>history</th>\n",
       "      <th>mens</th>\n",
       "      <th>womens</th>\n",
       "      <th>zip_code</th>\n",
       "      <th>newbie</th>\n",
       "      <th>channel</th>\n",
       "      <th>segment</th>\n",
       "      <th>visit</th>\n",
       "      <th>conversion</th>\n",
       "      <th>spend</th>\n",
       "    </tr>\n",
       "  </thead>\n",
       "  <tbody>\n",
       "    <tr>\n",
       "      <th>0</th>\n",
       "      <td>10</td>\n",
       "      <td>$100 - $200</td>\n",
       "      <td>142.44</td>\n",
       "      <td>1</td>\n",
       "      <td>0</td>\n",
       "      <td>Surburban</td>\n",
       "      <td>0</td>\n",
       "      <td>Phone</td>\n",
       "      <td>Womens E-Mail</td>\n",
       "      <td>0</td>\n",
       "      <td>0</td>\n",
       "      <td>0.0</td>\n",
       "    </tr>\n",
       "    <tr>\n",
       "      <th>1</th>\n",
       "      <td>6</td>\n",
       "      <td>$200 - $350</td>\n",
       "      <td>329.08</td>\n",
       "      <td>1</td>\n",
       "      <td>1</td>\n",
       "      <td>Rural</td>\n",
       "      <td>1</td>\n",
       "      <td>Web</td>\n",
       "      <td>No E-Mail</td>\n",
       "      <td>0</td>\n",
       "      <td>0</td>\n",
       "      <td>0.0</td>\n",
       "    </tr>\n",
       "    <tr>\n",
       "      <th>2</th>\n",
       "      <td>7</td>\n",
       "      <td>$100 - $200</td>\n",
       "      <td>180.65</td>\n",
       "      <td>0</td>\n",
       "      <td>1</td>\n",
       "      <td>Surburban</td>\n",
       "      <td>1</td>\n",
       "      <td>Web</td>\n",
       "      <td>Womens E-Mail</td>\n",
       "      <td>0</td>\n",
       "      <td>0</td>\n",
       "      <td>0.0</td>\n",
       "    </tr>\n",
       "    <tr>\n",
       "      <th>3</th>\n",
       "      <td>9</td>\n",
       "      <td>$500 - $750</td>\n",
       "      <td>675.83</td>\n",
       "      <td>1</td>\n",
       "      <td>0</td>\n",
       "      <td>Rural</td>\n",
       "      <td>1</td>\n",
       "      <td>Web</td>\n",
       "      <td>Mens E-Mail</td>\n",
       "      <td>0</td>\n",
       "      <td>0</td>\n",
       "      <td>0.0</td>\n",
       "    </tr>\n",
       "    <tr>\n",
       "      <th>4</th>\n",
       "      <td>2</td>\n",
       "      <td>$0 - $100</td>\n",
       "      <td>45.34</td>\n",
       "      <td>1</td>\n",
       "      <td>0</td>\n",
       "      <td>Urban</td>\n",
       "      <td>0</td>\n",
       "      <td>Web</td>\n",
       "      <td>Womens E-Mail</td>\n",
       "      <td>0</td>\n",
       "      <td>0</td>\n",
       "      <td>0.0</td>\n",
       "    </tr>\n",
       "  </tbody>\n",
       "</table>\n",
       "</div>"
      ],
      "text/plain": [
       "   recency history_segment  history  mens  womens   zip_code  newbie channel  \\\n",
       "0       10     $100 - $200   142.44     1       0  Surburban       0   Phone   \n",
       "1        6     $200 - $350   329.08     1       1      Rural       1     Web   \n",
       "2        7     $100 - $200   180.65     0       1  Surburban       1     Web   \n",
       "3        9     $500 - $750   675.83     1       0      Rural       1     Web   \n",
       "4        2       $0 - $100    45.34     1       0      Urban       0     Web   \n",
       "\n",
       "         segment  visit  conversion  spend  \n",
       "0  Womens E-Mail      0           0    0.0  \n",
       "1      No E-Mail      0           0    0.0  \n",
       "2  Womens E-Mail      0           0    0.0  \n",
       "3    Mens E-Mail      0           0    0.0  \n",
       "4  Womens E-Mail      0           0    0.0  "
      ]
     },
     "execution_count": 1,
     "metadata": {},
     "output_type": "execute_result"
    }
   ],
   "source": [
    "import pandas as pd\n",
    "import numpy as np\n",
    "import matplotlib.pyplot as plt\n",
    "import seaborn as sns\n",
    "\n",
    "pd.set_option('max_columns', None)\n",
    "df = pd.read_csv('causal/Kevin_Hillstrom_MineThatData_E-MailAnalytics_DataMiningChallenge_2008.03.20.csv', )\n",
    "df['history_segment'] = df['history_segment'].apply(lambda x: str(x)[2:])\n",
    "df.head()"
   ]
  },
  {
   "cell_type": "markdown",
   "metadata": {},
   "source": [
    "### Quick EDA\n",
    "\n",
    "* We observe that there are <b> 2 Experimental segments, </b> with equal number of customers in <b> Womens Email Campaign, Mens Email Campaign and Control Segment</b>. We have <b>receny</b> of customer, denoting number of months since last purchase (ranges from 1 to 12 months)\n",
    "\n",
    "\n",
    "* We also have the <b>aggregated total dollars spent</b> within the last 12 months on the website, and also a corresponding <b>history segment attribute</b>. From the distribution plot below, we observe that most of the purchases made fall within 0-100 Dollar segment and decreases with an increase in Dollar amount spent.\n",
    "\n",
    "\n",
    "* We observe that we have almost equal number of <b>newbies</b> within the last 12 months, as old users of the webiste. We observe that there are more customer from <b>Sub-Urban Zip-codes, followed by Urban, followed by Rural</b>."
   ]
  },
  {
   "cell_type": "code",
   "execution_count": 2,
   "metadata": {},
   "outputs": [
    {
     "data": {
      "text/plain": [
       "Womens E-Mail    21387\n",
       "Mens E-Mail      21307\n",
       "No E-Mail        21306\n",
       "Name: segment, dtype: int64"
      ]
     },
     "execution_count": 2,
     "metadata": {},
     "output_type": "execute_result"
    }
   ],
   "source": [
    "df.segment.value_counts()"
   ]
  },
  {
   "cell_type": "code",
   "execution_count": 3,
   "metadata": {},
   "outputs": [
    {
     "data": {
      "text/plain": [
       "<matplotlib.axes._subplots.AxesSubplot at 0x11f6709b0>"
      ]
     },
     "execution_count": 3,
     "metadata": {},
     "output_type": "execute_result"
    },
    {
     "data": {
      "image/png": "[encoded data removed]",
      "text/plain": [
       "<Figure size 1152x720 with 4 Axes>"
      ]
     },
     "metadata": {
      "needs_background": "light"
     },
     "output_type": "display_data"
    }
   ],
   "source": [
    "plt.figure(figsize=(16,10))\n",
    "\n",
    "plt.subplot(2,2,1)\n",
    "sns.distplot(df.recency); plt.title('Distribution Plot of Recency')\n",
    "\n",
    "plt.subplot(2,2,2); plt.title('Count Plot of Historical Segments')\n",
    "sns.countplot(df.history_segment, order=df.history_segment.value_counts().index)\n",
    "plt.xticks(rotation=15)\n",
    "\n",
    "plt.subplot(2,2,3); plt.title('Count Plot of Zipcode type')\n",
    "sns.countplot(df.zip_code, order=df.zip_code.value_counts().index)\n",
    "\n",
    "plt.subplot(2,2,4);\n",
    "sns.countplot(df.newbie, order=df.newbie.value_counts().index)"
   ]
  },
  {
   "cell_type": "markdown",
   "metadata": {},
   "source": [
    "## Outcome Variables of Interest\n",
    "\n",
    "We are now interested to see customer behaviour across segments. <b>Visit attribute</b> is set to 1 when customer visits webiste within 2 weeks of Email marketing. We observe that without any marketing at all, <b> 10 % of customer visit the website & 5 of every 1000 customers make purchase</b>.\n",
    "\n",
    "We see that maximum visits, conversion rate and spend is across <b>Mens E-Mail Segment</b>, followed by <b>Womens E-Mail Segment</b> and then <b>No-Email</b> Segment."
   ]
  },
  {
   "cell_type": "code",
   "execution_count": 9,
   "metadata": {},
   "outputs": [
    {
     "data": {
      "text/html": [
       "<div>\n",
       "<style scoped>\n",
       "    .dataframe tbody tr th:only-of-type {\n",
       "        vertical-align: middle;\n",
       "    }\n",
       "\n",
       "    .dataframe tbody tr th {\n",
       "        vertical-align: top;\n",
       "    }\n",
       "\n",
       "    .dataframe thead tr th {\n",
       "        text-align: left;\n",
       "    }\n",
       "\n",
       "    .dataframe thead tr:last-of-type th {\n",
       "        text-align: right;\n",
       "    }\n",
       "</style>\n",
       "<table border=\"1\" class=\"dataframe\">\n",
       "  <thead>\n",
       "    <tr>\n",
       "      <th></th>\n",
       "      <th colspan=\"3\" halign=\"left\">mean</th>\n",
       "    </tr>\n",
       "    <tr>\n",
       "      <th></th>\n",
       "      <th>conversion</th>\n",
       "      <th>spend</th>\n",
       "      <th>visit</th>\n",
       "    </tr>\n",
       "    <tr>\n",
       "      <th>segment</th>\n",
       "      <th></th>\n",
       "      <th></th>\n",
       "      <th></th>\n",
       "    </tr>\n",
       "  </thead>\n",
       "  <tbody>\n",
       "    <tr>\n",
       "      <th>Mens E-Mail</th>\n",
       "      <td>0.012531</td>\n",
       "      <td>1.422617</td>\n",
       "      <td>0.182757</td>\n",
       "    </tr>\n",
       "    <tr>\n",
       "      <th>No E-Mail</th>\n",
       "      <td>0.005726</td>\n",
       "      <td>0.652789</td>\n",
       "      <td>0.106167</td>\n",
       "    </tr>\n",
       "    <tr>\n",
       "      <th>Womens E-Mail</th>\n",
       "      <td>0.008837</td>\n",
       "      <td>1.077202</td>\n",
       "      <td>0.151400</td>\n",
       "    </tr>\n",
       "    <tr>\n",
       "      <th>All</th>\n",
       "      <td>0.009031</td>\n",
       "      <td>1.050908</td>\n",
       "      <td>0.146781</td>\n",
       "    </tr>\n",
       "  </tbody>\n",
       "</table>\n",
       "</div>"
      ],
      "text/plain": [
       "                    mean                    \n",
       "              conversion     spend     visit\n",
       "segment                                     \n",
       "Mens E-Mail     0.012531  1.422617  0.182757\n",
       "No E-Mail       0.005726  0.652789  0.106167\n",
       "Womens E-Mail   0.008837  1.077202  0.151400\n",
       "All             0.009031  1.050908  0.146781"
      ]
     },
     "execution_count": 9,
     "metadata": {},
     "output_type": "execute_result"
    }
   ],
   "source": [
    "df.pivot_table(values=['visit', 'conversion', 'spend'],\n",
    "               index='segment',\n",
    "               aggfunc=[np.mean],\n",
    "               margins=True)"
   ]
  },
  {
   "cell_type": "code",
   "execution_count": null,
   "metadata": {},
   "outputs": [],
   "source": []
  }
 ],
 "metadata": {
  "kernelspec": {
   "display_name": "Python 3",
   "language": "python",
   "name": "python3"
  },
  "language_info": {
   "codemirror_mode": {
    "name": "ipython",
    "version": 3
   },
   "file_extension": ".py",
   "mimetype": "text/x-python",
   "name": "python",
   "nbconvert_exporter": "python",
   "pygments_lexer": "ipython3",
   "version": "3.7.1"
  }
 },
 "nbformat": 4,
 "nbformat_minor": 2
}
