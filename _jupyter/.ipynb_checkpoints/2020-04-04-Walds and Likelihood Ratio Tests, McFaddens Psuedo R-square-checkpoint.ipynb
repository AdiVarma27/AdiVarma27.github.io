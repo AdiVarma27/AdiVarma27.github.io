{
 "cells": [
  {
   "cell_type": "markdown",
   "metadata": {},
   "source": [
    "## Walds Test, Likelihood Ratio Test & McFadden's Pseudo-R2 for Logistic Regression\n",
    "\n",
    "* Logistic Regression is extensively used for its <b>Interpretability and Probabilistic outputs</b>. In this notebook, we are going to explore significance testing for Logistic Regression framework, and understand various metrics to take into account during Inference.\n",
    "\n",
    "\n",
    "* In almost all statistical libraries, we see the summary table provided for Linear and Logistic Regression models. All of them come with multiple columns consisting of the Actual coefficients, the z/t stat associated with the coefficient, the p-value, and Standard Error term. Along with it, we also see R-squared , Log-Likelihood, F-stats and other metrics, which are essential for <b>Inference and Decision making process.</b>\n",
    "\n",
    "\n",
    "## Index\n",
    "\n",
    "1). [McFadden's Pseduo R-square](#1)\n",
    "\n",
    "2). [Walds Test](#2)\n",
    "\n",
    "3). [Likelihood Ratio Test](#3)"
   ]
  },
  {
   "cell_type": "code",
   "execution_count": 1,
   "metadata": {},
   "outputs": [
    {
     "data": {
      "text/html": [
       "<div>\n",
       "<style scoped>\n",
       "    .dataframe tbody tr th:only-of-type {\n",
       "        vertical-align: middle;\n",
       "    }\n",
       "\n",
       "    .dataframe tbody tr th {\n",
       "        vertical-align: top;\n",
       "    }\n",
       "\n",
       "    .dataframe thead th {\n",
       "        text-align: right;\n",
       "    }\n",
       "</style>\n",
       "<table border=\"1\" class=\"dataframe\">\n",
       "  <thead>\n",
       "    <tr style=\"text-align: right;\">\n",
       "      <th></th>\n",
       "      <th>product_data_storage</th>\n",
       "      <th>product_travel_expense</th>\n",
       "      <th>product_payroll</th>\n",
       "      <th>product_accounting</th>\n",
       "      <th>csat_score</th>\n",
       "      <th>articles_viewed</th>\n",
       "      <th>smartphone_notifications_viewed</th>\n",
       "      <th>marketing_emails_clicked</th>\n",
       "      <th>social_media_ads_viewed</th>\n",
       "      <th>minutes_customer_support</th>\n",
       "      <th>company_size</th>\n",
       "      <th>us_region</th>\n",
       "      <th>months_active</th>\n",
       "      <th>churned</th>\n",
       "    </tr>\n",
       "  </thead>\n",
       "  <tbody>\n",
       "    <tr>\n",
       "      <th>0</th>\n",
       "      <td>2048</td>\n",
       "      <td>Free-Trial</td>\n",
       "      <td>Active</td>\n",
       "      <td>No</td>\n",
       "      <td>9</td>\n",
       "      <td>4</td>\n",
       "      <td>0</td>\n",
       "      <td>14</td>\n",
       "      <td>1</td>\n",
       "      <td>8.3</td>\n",
       "      <td>10-50</td>\n",
       "      <td>West North Central</td>\n",
       "      <td>3.0</td>\n",
       "      <td>1.0</td>\n",
       "    </tr>\n",
       "    <tr>\n",
       "      <th>1</th>\n",
       "      <td>2048</td>\n",
       "      <td>Free-Trial</td>\n",
       "      <td>Free-Trial</td>\n",
       "      <td>Active</td>\n",
       "      <td>9</td>\n",
       "      <td>4</td>\n",
       "      <td>2</td>\n",
       "      <td>12</td>\n",
       "      <td>1</td>\n",
       "      <td>0.0</td>\n",
       "      <td>100-250</td>\n",
       "      <td>South Atlantic</td>\n",
       "      <td>2.0</td>\n",
       "      <td>1.0</td>\n",
       "    </tr>\n",
       "  </tbody>\n",
       "</table>\n",
       "</div>"
      ],
      "text/plain": [
       "   product_data_storage product_travel_expense product_payroll  \\\n",
       "0                  2048             Free-Trial          Active   \n",
       "1                  2048             Free-Trial      Free-Trial   \n",
       "\n",
       "  product_accounting  csat_score  articles_viewed  \\\n",
       "0                 No           9                4   \n",
       "1             Active           9                4   \n",
       "\n",
       "   smartphone_notifications_viewed  marketing_emails_clicked  \\\n",
       "0                                0                        14   \n",
       "1                                2                        12   \n",
       "\n",
       "   social_media_ads_viewed  minutes_customer_support company_size  \\\n",
       "0                        1                       8.3        10-50   \n",
       "1                        1                       0.0      100-250   \n",
       "\n",
       "            us_region  months_active  churned  \n",
       "0  West North Central            3.0      1.0  \n",
       "1      South Atlantic            2.0      1.0  "
      ]
     },
     "execution_count": 1,
     "metadata": {},
     "output_type": "execute_result"
    }
   ],
   "source": [
    "# importing necessary libraries\n",
    "import pandas as pd\n",
    "import numpy as np\n",
    "import matplotlib.pyplot as plt\n",
    "import seaborn as sns\n",
    "\n",
    "# pandas settings\n",
    "pd.set_option('max_columns', None)\n",
    "pd.set_option('max_rows', None)\n",
    "\n",
    "# churn dataset\n",
    "df_churn = pd.read_csv('churn.csv')\n",
    "df_churn.head(2)"
   ]
  },
  {
   "cell_type": "markdown",
   "metadata": {},
   "source": [
    "### Dataset \n",
    "\n",
    "Our Dataset: Churn data from pysurvival package, we try to predict wether customers churns or not using Logistic Regression.\n",
    "\n",
    "[A software as a service (SaaS) company provides a suite of products for Small-to-Medium enterprises, such as data storage, Accounting, Travel and Expenses management as well as Payroll management.So as to help the CFO forecast the acquisition and marketing costs for the next fiscal year, the Data Science team wants to build a churn model to predict when customers are likely to stop their monthly subscription. Thus, once customers have been flagged as likely to churn within a certain time window, the company could take the necessary retention actions.](!https://square.github.io/pysurvival/tutorials/churn.html)"
   ]
  },
  {
   "cell_type": "code",
   "execution_count": 2,
   "metadata": {},
   "outputs": [],
   "source": [
    "# filtering on churn dataset\n",
    "df_churn_ = df_churn[['product_data_storage', 'csat_score', 'articles_viewed',\n",
    "       'smartphone_notifications_viewed', 'marketing_emails_clicked',\n",
    "       'social_media_ads_viewed', 'minutes_customer_support', 'months_active',\n",
    "       'churned']]\n",
    "\n",
    "# splitting into independent and dependent variables\n",
    "X = df_churn_.drop(['churned'], axis=1)\n",
    "y = df_churn_.churned"
   ]
  },
  {
   "cell_type": "markdown",
   "metadata": {},
   "source": [
    "### Observation\n",
    "\n",
    "* We observe that there are almost equal number of people who churned and who did not, in our dataset. Looking at the summary tables below, we also see that the mean <b> product_data_storage (Amount of cloud space used in GigaBytes)</b> is lower for people who did not churn (people who left used lesser storage on average).\n",
    "\n",
    "\n",
    "* We also observe that the mean <b>csat_score (Customer satisfaction score), articles viewed, marketing emails clicked clicked, social media ads viewed and months active, are lesser</b> for customers who churned. We also see that <b>smartphone notofications and minutes spent with customer support</b> are higher for churned customers than non-churned customers. Also, churned customers have been active for lesser duration on average than non-churned customers."
   ]
  },
  {
   "cell_type": "code",
   "execution_count": 3,
   "metadata": {},
   "outputs": [
    {
     "data": {
      "text/plain": [
       "0.0    1068\n",
       "1.0     932\n",
       "Name: churned, dtype: int64"
      ]
     },
     "execution_count": 3,
     "metadata": {},
     "output_type": "execute_result"
    }
   ],
   "source": [
    "y.value_counts()"
   ]
  },
  {
   "cell_type": "code",
   "execution_count": 4,
   "metadata": {},
   "outputs": [
    {
     "data": {
      "text/html": [
       "<div>\n",
       "<style scoped>\n",
       "    .dataframe tbody tr th:only-of-type {\n",
       "        vertical-align: middle;\n",
       "    }\n",
       "\n",
       "    .dataframe tbody tr th {\n",
       "        vertical-align: top;\n",
       "    }\n",
       "\n",
       "    .dataframe thead th {\n",
       "        text-align: right;\n",
       "    }\n",
       "</style>\n",
       "<table border=\"1\" class=\"dataframe\">\n",
       "  <thead>\n",
       "    <tr style=\"text-align: right;\">\n",
       "      <th></th>\n",
       "      <th>product_data_storage</th>\n",
       "      <th>csat_score</th>\n",
       "      <th>articles_viewed</th>\n",
       "      <th>smartphone_notifications_viewed</th>\n",
       "      <th>marketing_emails_clicked</th>\n",
       "      <th>social_media_ads_viewed</th>\n",
       "      <th>minutes_customer_support</th>\n",
       "      <th>months_active</th>\n",
       "    </tr>\n",
       "    <tr>\n",
       "      <th>churned</th>\n",
       "      <th></th>\n",
       "      <th></th>\n",
       "      <th></th>\n",
       "      <th></th>\n",
       "      <th></th>\n",
       "      <th></th>\n",
       "      <th></th>\n",
       "      <th></th>\n",
       "    </tr>\n",
       "  </thead>\n",
       "  <tbody>\n",
       "    <tr>\n",
       "      <th>0.0</th>\n",
       "      <td>1547.314607</td>\n",
       "      <td>9.388577</td>\n",
       "      <td>4.087079</td>\n",
       "      <td>0.33427</td>\n",
       "      <td>16.308052</td>\n",
       "      <td>0.439139</td>\n",
       "      <td>1.094101</td>\n",
       "      <td>4.751873</td>\n",
       "    </tr>\n",
       "    <tr>\n",
       "      <th>1.0</th>\n",
       "      <td>1231.394850</td>\n",
       "      <td>8.507511</td>\n",
       "      <td>3.883047</td>\n",
       "      <td>0.44206</td>\n",
       "      <td>16.008584</td>\n",
       "      <td>0.310086</td>\n",
       "      <td>3.901288</td>\n",
       "      <td>2.879828</td>\n",
       "    </tr>\n",
       "  </tbody>\n",
       "</table>\n",
       "</div>"
      ],
      "text/plain": [
       "         product_data_storage  csat_score  articles_viewed  \\\n",
       "churned                                                      \n",
       "0.0               1547.314607    9.388577         4.087079   \n",
       "1.0               1231.394850    8.507511         3.883047   \n",
       "\n",
       "         smartphone_notifications_viewed  marketing_emails_clicked  \\\n",
       "churned                                                              \n",
       "0.0                              0.33427                 16.308052   \n",
       "1.0                              0.44206                 16.008584   \n",
       "\n",
       "         social_media_ads_viewed  minutes_customer_support  months_active  \n",
       "churned                                                                    \n",
       "0.0                     0.439139                  1.094101       4.751873  \n",
       "1.0                     0.310086                  3.901288       2.879828  "
      ]
     },
     "execution_count": 4,
     "metadata": {},
     "output_type": "execute_result"
    }
   ],
   "source": [
    "df_churn.groupby('churned').mean()"
   ]
  },
  {
   "cell_type": "markdown",
   "metadata": {},
   "source": [
    "### Logistic Regression Model (Predicting Churn Propensity)"
   ]
  },
  {
   "cell_type": "code",
   "execution_count": 5,
   "metadata": {},
   "outputs": [
    {
     "name": "stderr",
     "output_type": "stream",
     "text": [
      "/anaconda3/lib/python3.7/site-packages/sklearn/linear_model/logistic.py:433: FutureWarning: Default solver will be changed to 'lbfgs' in 0.22. Specify a solver to silence this warning.\n",
      "  FutureWarning)\n"
     ]
    },
    {
     "data": {
      "text/plain": [
       "(0.779, 0.745)"
      ]
     },
     "execution_count": 5,
     "metadata": {},
     "output_type": "execute_result"
    }
   ],
   "source": [
    "# splitting into training and testing data\n",
    "from sklearn.model_selection import train_test_split\n",
    "X_train, X_test, y_train, y_test = train_test_split(X, y, test_size=0.5, random_state=42)\n",
    "\n",
    "# fitting logistic regression model\n",
    "from sklearn.linear_model import LogisticRegression\n",
    "from sklearn.metrics import accuracy_score\n",
    "\n",
    "\n",
    "LRModel = LogisticRegression(max_iter=500).fit(X_train, y_train)\n",
    "y_pred = LRModel.predict(X_test)\n",
    "\n",
    "# training and testing accuracies\n",
    "accuracy_score(LRModel.predict(X_train), y_train), accuracy_score(y_pred, y_test)"
   ]
  },
  {
   "cell_type": "markdown",
   "metadata": {},
   "source": [
    "### Feature Contributions\n",
    "\n",
    "* The table below contains Coefficients of all attributes along with the model intercept. We know that Logistic Regression models log of odds as linear combination of coefficients and the data. The expression can be re-written in terms of Odds, by multiplying with exponent on both sides; which provides Odds of Churning to Non-Churning.\n",
    "\n",
    "\n",
    "$$log\\frac{p(y)}{1-p(y)} = \\beta{_0} + \\beta{_1}x{_1} + \\beta{_2}x{_2} + ... + \\beta{_n}x{_n}$$\n",
    "\n",
    "\n",
    "\n",
    "\n",
    "\n",
    "\n",
    "$$\\frac{p(y)}{1-p(y)} = \\exp^{\\beta{_0} + \\beta{_1}x{_1} + \\beta{_2}x{_2} + ... + \\beta{_n}x{_n}}$$\n",
    "\n",
    "\n",
    "* One unit increase/ decrease of an attribute (X), leads to 'Beta' increase/ decrease in Log odds of event occurance. In terms of Odds, it is increase/ decrease of Exponent of 'Beta'. Hence, we convert Log-Odds to True-Odds by applying an exponential transformation as shown in table below."
   ]
  },
  {
   "cell_type": "code",
   "execution_count": 6,
   "metadata": {},
   "outputs": [
    {
     "data": {
      "text/html": [
       "<div>\n",
       "<style scoped>\n",
       "    .dataframe tbody tr th:only-of-type {\n",
       "        vertical-align: middle;\n",
       "    }\n",
       "\n",
       "    .dataframe tbody tr th {\n",
       "        vertical-align: top;\n",
       "    }\n",
       "\n",
       "    .dataframe thead th {\n",
       "        text-align: right;\n",
       "    }\n",
       "</style>\n",
       "<table border=\"1\" class=\"dataframe\">\n",
       "  <thead>\n",
       "    <tr style=\"text-align: right;\">\n",
       "      <th></th>\n",
       "      <th>features</th>\n",
       "      <th>beta</th>\n",
       "      <th>odds</th>\n",
       "    </tr>\n",
       "  </thead>\n",
       "  <tbody>\n",
       "    <tr>\n",
       "      <th>0</th>\n",
       "      <td>intercept_term</td>\n",
       "      <td>6.295301</td>\n",
       "      <td>542.0191800843253</td>\n",
       "    </tr>\n",
       "    <tr>\n",
       "      <th>1</th>\n",
       "      <td>product_data_storage</td>\n",
       "      <td>-0.000186</td>\n",
       "      <td>0.9998136939264295</td>\n",
       "    </tr>\n",
       "    <tr>\n",
       "      <th>2</th>\n",
       "      <td>csat_score</td>\n",
       "      <td>-0.641847</td>\n",
       "      <td>0.5263196617231177</td>\n",
       "    </tr>\n",
       "    <tr>\n",
       "      <th>3</th>\n",
       "      <td>articles_viewed</td>\n",
       "      <td>-0.003096</td>\n",
       "      <td>0.9969084295670883</td>\n",
       "    </tr>\n",
       "    <tr>\n",
       "      <th>4</th>\n",
       "      <td>smartphone_notifications_viewed</td>\n",
       "      <td>0.353378</td>\n",
       "      <td>1.423869216841277</td>\n",
       "    </tr>\n",
       "    <tr>\n",
       "      <th>5</th>\n",
       "      <td>marketing_emails_clicked</td>\n",
       "      <td>0.025908</td>\n",
       "      <td>1.0262466100065433</td>\n",
       "    </tr>\n",
       "    <tr>\n",
       "      <th>6</th>\n",
       "      <td>social_media_ads_viewed</td>\n",
       "      <td>-0.306090</td>\n",
       "      <td>0.7363202800633711</td>\n",
       "    </tr>\n",
       "    <tr>\n",
       "      <th>7</th>\n",
       "      <td>minutes_customer_support</td>\n",
       "      <td>0.082391</td>\n",
       "      <td>1.0858800288073274</td>\n",
       "    </tr>\n",
       "    <tr>\n",
       "      <th>8</th>\n",
       "      <td>months_active</td>\n",
       "      <td>-0.289009</td>\n",
       "      <td>0.7490054957724708</td>\n",
       "    </tr>\n",
       "  </tbody>\n",
       "</table>\n",
       "</div>"
      ],
      "text/plain": [
       "                          features      beta                odds\n",
       "0                   intercept_term  6.295301   542.0191800843253\n",
       "1             product_data_storage -0.000186  0.9998136939264295\n",
       "2                       csat_score -0.641847  0.5263196617231177\n",
       "3                  articles_viewed -0.003096  0.9969084295670883\n",
       "4  smartphone_notifications_viewed  0.353378   1.423869216841277\n",
       "5         marketing_emails_clicked  0.025908  1.0262466100065433\n",
       "6          social_media_ads_viewed -0.306090  0.7363202800633711\n",
       "7         minutes_customer_support  0.082391  1.0858800288073274\n",
       "8                    months_active -0.289009  0.7490054957724708"
      ]
     },
     "execution_count": 6,
     "metadata": {},
     "output_type": "execute_result"
    }
   ],
   "source": [
    "df_feat = pd.DataFrame()\n",
    "df_feat['features'] = ['intercept_term'] + X.columns.tolist()\n",
    "df_feat['beta'] = [LRModel.intercept_] + LRModel.coef_[0].tolist()\n",
    "df_feat.loc[0, 'beta'] = df_feat.iloc[0].beta[0]\n",
    "df_feat['beta'] = pd.to_numeric(df_feat['beta'])\n",
    "df_feat['odds'] = np.exp(df_feat.beta)\n",
    "df_feat['odds'] = df_feat['odds'].astype('str')\n",
    "df_feat"
   ]
  },
  {
   "cell_type": "markdown",
   "metadata": {},
   "source": [
    "## How do we reduce churn ?\n",
    "\n",
    "\n",
    "### Media Targeting Strategy\n",
    "\n",
    "* Smart phone notifications viewed have higher odds for churned vs non-churned customers, which could <b>possibly indicate unnecessary notifications popping up to customers, it could also be irrelevant notifications being displayed.</b> We could design experiments to see what the exact issue (Could be irrelevant notifications, or just the frequency of notifications). \n",
    "\n",
    "\n",
    "\n",
    "* Social Media Ads viewed have lower odds for chunred to non-churned, Hence, <b>we could design an experiment for re-targeting existing cutomers</b> (to either solidify belief of social presence or their usage of our tool/ product).\n",
    "\n",
    "\n",
    "\n",
    "### Customer Satisfaction Exploration\n",
    "* Customer satisfaction scores are clearly indicative of churn beahviour. Clearly, we need to dive deep into issues customers ran into and make sure they are covered (Also indicated by minutes_customer_support).\n",
    "\n",
    "### How Strong is the evidence for the above Recommendations ?\n",
    "\n",
    "\n",
    "* While interpreting results of Logistic Regression Model, understanding the confidence and stability of coefficients is important. In some cases, the coefficient contribution could be high in magnitude, but have <b>high standard errors</b> associated to it. \n",
    "\n",
    "\n",
    "* In Linear Regression, R-squared term is used to explain the amount of variance captured by regression to total amount of variance, and can be simply put into a value from 0 to 1. Similarly, we can use McFaddens Pseudo R-squared to <b>describe the quality of signal in Logistic Regression</b>.\n",
    "\n",
    "<hr>"
   ]
  },
  {
   "cell_type": "markdown",
   "metadata": {},
   "source": [
    "<a id='1'></a>\n",
    "## McFadden's Pseudo R-Square\n",
    "\n",
    "* Formally, McFaddens Pseudo R-square is defined as (1 - Ratio of Log-Likelihood of complete Logistic Model and Log-likelihood of only intercept term in the model). The value ranges from 0 to 1; the essence being that <b>if the model were not predictive, the LogLikelihood of Null Model and Full Model would be similar, reducing the value close to 0</b>.\n",
    "\n",
    "\n",
    "* As we know the coefficients, we can calculate the Log-Likelihood of the complete model by plugging predicted class 1 probabilities into the cost function. We find the Log Likelihood for the full model to be around -488.9 manually. Below, we use statsmodels api to find out Log-Likelihood of Full model and Null model.\n",
    "\n",
    "$$ R^2 = 1 - \\frac{LL_{Full Model}}{LL_{Intercept}}$$\n",
    "\n",
    "\n",
    "\n",
    "\n",
    "\n",
    "\n",
    "$$ Cost = ylog(prediction prob) + (1-y)log(1-prediction prob)$$"
   ]
  },
  {
   "cell_type": "code",
   "execution_count": 7,
   "metadata": {},
   "outputs": [
    {
     "data": {
      "text/plain": [
       "-506.2349289520952"
      ]
     },
     "execution_count": 7,
     "metadata": {},
     "output_type": "execute_result"
    }
   ],
   "source": [
    "from sklearn.metrics import log_loss\n",
    "\n",
    "def sigmoid(z):\n",
    "    return 1/(1+np.exp(-z))\n",
    "\n",
    "y_pred_proba = LRModel.predict_proba(X_train)[:,1]\n",
    "\n",
    "LL = np.sum(y_train*np.log(y_pred_proba) + (1-y_train)*np.log(1-y_pred_proba))\n",
    "LL"
   ]
  },
  {
   "cell_type": "code",
   "execution_count": 8,
   "metadata": {},
   "outputs": [
    {
     "name": "stderr",
     "output_type": "stream",
     "text": [
      "/anaconda3/lib/python3.7/site-packages/ipykernel_launcher.py:2: SettingWithCopyWarning: \n",
      "A value is trying to be set on a copy of a slice from a DataFrame.\n",
      "Try using .loc[row_indexer,col_indexer] = value instead\n",
      "\n",
      "See the caveats in the documentation: http://pandas.pydata.org/pandas-docs/stable/user_guide/indexing.html#returning-a-view-versus-a-copy\n",
      "  \n",
      "/anaconda3/lib/python3.7/site-packages/statsmodels/compat/pandas.py:49: FutureWarning: The Panel class is removed from pandas. Accessing it from the top-level namespace will also be removed in the next version\n",
      "  data_klasses = (pandas.Series, pandas.DataFrame, pandas.Panel)\n"
     ]
    },
    {
     "name": "stdout",
     "output_type": "stream",
     "text": [
      "Optimization terminated successfully.\n",
      "         Current function value: 0.488879\n",
      "         Iterations 6\n"
     ]
    },
    {
     "data": {
      "text/html": [
       "<table class=\"simpletable\">\n",
       "<caption>Logit Regression Results</caption>\n",
       "<tr>\n",
       "  <th>Dep. Variable:</th>      <td>churned</td>     <th>  No. Observations:  </th>  <td>  1000</td>  \n",
       "</tr>\n",
       "<tr>\n",
       "  <th>Model:</th>               <td>Logit</td>      <th>  Df Residuals:      </th>  <td>   991</td>  \n",
       "</tr>\n",
       "<tr>\n",
       "  <th>Method:</th>               <td>MLE</td>       <th>  Df Model:          </th>  <td>     8</td>  \n",
       "</tr>\n",
       "<tr>\n",
       "  <th>Date:</th>          <td>Mon, 06 Apr 2020</td> <th>  Pseudo R-squ.:     </th>  <td>0.2925</td>  \n",
       "</tr>\n",
       "<tr>\n",
       "  <th>Time:</th>              <td>19:12:35</td>     <th>  Log-Likelihood:    </th> <td> -488.88</td> \n",
       "</tr>\n",
       "<tr>\n",
       "  <th>converged:</th>           <td>True</td>       <th>  LL-Null:           </th> <td> -690.97</td> \n",
       "</tr>\n",
       "<tr>\n",
       "  <th> </th>                      <td> </td>        <th>  LLR p-value:       </th> <td>2.394e-82</td>\n",
       "</tr>\n",
       "</table>\n",
       "<table class=\"simpletable\">\n",
       "<tr>\n",
       "                 <td></td>                    <th>coef</th>     <th>std err</th>      <th>z</th>      <th>P>|z|</th>  <th>[0.025</th>    <th>0.975]</th>  \n",
       "</tr>\n",
       "<tr>\n",
       "  <th>product_data_storage</th>            <td>   -0.0003</td> <td> 7.48e-05</td> <td>   -3.531</td> <td> 0.000</td> <td>   -0.000</td> <td>   -0.000</td>\n",
       "</tr>\n",
       "<tr>\n",
       "  <th>csat_score</th>                      <td>   -1.1351</td> <td>    0.102</td> <td>  -11.132</td> <td> 0.000</td> <td>   -1.335</td> <td>   -0.935</td>\n",
       "</tr>\n",
       "<tr>\n",
       "  <th>articles_viewed</th>                 <td>   -0.0441</td> <td>    0.040</td> <td>   -1.089</td> <td> 0.276</td> <td>   -0.123</td> <td>    0.035</td>\n",
       "</tr>\n",
       "<tr>\n",
       "  <th>smartphone_notifications_viewed</th> <td>    0.3978</td> <td>    0.137</td> <td>    2.894</td> <td> 0.004</td> <td>    0.128</td> <td>    0.667</td>\n",
       "</tr>\n",
       "<tr>\n",
       "  <th>marketing_emails_clicked</th>        <td>   -0.0352</td> <td>    0.026</td> <td>   -1.370</td> <td> 0.171</td> <td>   -0.085</td> <td>    0.015</td>\n",
       "</tr>\n",
       "<tr>\n",
       "  <th>social_media_ads_viewed</th>         <td>   -0.4051</td> <td>    0.151</td> <td>   -2.686</td> <td> 0.007</td> <td>   -0.701</td> <td>   -0.110</td>\n",
       "</tr>\n",
       "<tr>\n",
       "  <th>minutes_customer_support</th>        <td>    0.0907</td> <td>    0.016</td> <td>    5.723</td> <td> 0.000</td> <td>    0.060</td> <td>    0.122</td>\n",
       "</tr>\n",
       "<tr>\n",
       "  <th>months_active</th>                   <td>   -0.2757</td> <td>    0.041</td> <td>   -6.645</td> <td> 0.000</td> <td>   -0.357</td> <td>   -0.194</td>\n",
       "</tr>\n",
       "<tr>\n",
       "  <th>intercept_</th>                      <td>   11.9827</td> <td>    1.036</td> <td>   11.567</td> <td> 0.000</td> <td>    9.952</td> <td>   14.013</td>\n",
       "</tr>\n",
       "</table>"
      ],
      "text/plain": [
       "<class 'statsmodels.iolib.summary.Summary'>\n",
       "\"\"\"\n",
       "                           Logit Regression Results                           \n",
       "==============================================================================\n",
       "Dep. Variable:                churned   No. Observations:                 1000\n",
       "Model:                          Logit   Df Residuals:                      991\n",
       "Method:                           MLE   Df Model:                            8\n",
       "Date:                Mon, 06 Apr 2020   Pseudo R-squ.:                  0.2925\n",
       "Time:                        19:12:35   Log-Likelihood:                -488.88\n",
       "converged:                       True   LL-Null:                       -690.97\n",
       "                                        LLR p-value:                 2.394e-82\n",
       "===================================================================================================\n",
       "                                      coef    std err          z      P>|z|      [0.025      0.975]\n",
       "---------------------------------------------------------------------------------------------------\n",
       "product_data_storage               -0.0003   7.48e-05     -3.531      0.000      -0.000      -0.000\n",
       "csat_score                         -1.1351      0.102    -11.132      0.000      -1.335      -0.935\n",
       "articles_viewed                    -0.0441      0.040     -1.089      0.276      -0.123       0.035\n",
       "smartphone_notifications_viewed     0.3978      0.137      2.894      0.004       0.128       0.667\n",
       "marketing_emails_clicked           -0.0352      0.026     -1.370      0.171      -0.085       0.015\n",
       "social_media_ads_viewed            -0.4051      0.151     -2.686      0.007      -0.701      -0.110\n",
       "minutes_customer_support            0.0907      0.016      5.723      0.000       0.060       0.122\n",
       "months_active                      -0.2757      0.041     -6.645      0.000      -0.357      -0.194\n",
       "intercept_                         11.9827      1.036     11.567      0.000       9.952      14.013\n",
       "===================================================================================================\n",
       "\"\"\""
      ]
     },
     "execution_count": 8,
     "metadata": {},
     "output_type": "execute_result"
    }
   ],
   "source": [
    "#including intercept term\n",
    "X_train['intercept_'] = 1\n",
    "\n",
    "import statsmodels.api as sm\n",
    "\n",
    "mod = sm.Logit(y_train, X_train)\n",
    "results = mod.fit(maxiter=120)\n",
    "results.summary()"
   ]
  },
  {
   "cell_type": "markdown",
   "metadata": {},
   "source": [
    "* We observe that LL-Null Model us -690 and LL-Full Model is -488.88 using statsmodel api (which is equal to our manual prediction step). We see from the summary table above and step below, with <b>R-squared value of 0.2925</b>. Note: [Values of 0.2 to 0.4 show excellent fit.](http://cowles.yale.edu/sites/default/files/files/pub/d04/d0474.pdf)"
   ]
  },
  {
   "cell_type": "code",
   "execution_count": 9,
   "metadata": {},
   "outputs": [
    {
     "data": {
      "text/plain": [
       "0.2924729004153581"
      ]
     },
     "execution_count": 9,
     "metadata": {},
     "output_type": "execute_result"
    }
   ],
   "source": [
    "LL_null_model = -690.97\n",
    "LL_full_model = -488.88\n",
    "\n",
    "R2 = 1 - (LL_full_model/LL_null_model)\n",
    "R2"
   ]
  },
  {
   "cell_type": "markdown",
   "metadata": {},
   "source": [
    "<a id='2'></a>\n",
    "Now that we know the overall predictability power of the model with McFaddens R-squared, Lets take a look at individual attributes and their coefficients. The Z-value in statsapi model and many other software packages refers to <b>Wald's Tests </b>\n",
    "\n",
    "\n",
    "# Wald's Test\n",
    "\n",
    "* The null hypothesis for Walds test assumes <b>no effect of variable on Log Odds of the model, and alternate hypothesis assumes there is a siginificant effect of the attribute on the model</b>.\n",
    "\n",
    "$$ MLE = \\prod_{i=1}^{n} (p)^{y}(1-p)^{1-y} = \\prod_{i=1}^{n} \\sigma(W^tX)^{y}(1-\\sigma(W^tX))^{1-y} $$\n",
    "\n",
    "\n",
    "$$ Z (Walds) =  \\frac{\\beta}{SE(\\beta)}$$"
   ]
  },
  {
   "cell_type": "markdown",
   "metadata": {},
   "source": [
    "### Log Likelihood at Optimal Beta\n",
    "\n",
    "* See below, the final Logistic model has a Negative Log Likelihood of -488.9079452207212. At this LogLikelihood, most optimal beta for 'smartphone_notifications_viewed_optimal' is 0.388169. Let us now change the value of Beta, and see how the corresponding Log-Likelihood changes for the 'smartphone_notifications_viewed_optimal' attribute."
   ]
  },
  {
   "cell_type": "code",
   "execution_count": 11,
   "metadata": {},
   "outputs": [
    {
     "name": "stderr",
     "output_type": "stream",
     "text": [
      "/anaconda3/lib/python3.7/site-packages/ipykernel_launcher.py:3: SettingWithCopyWarning: \n",
      "A value is trying to be set on a copy of a slice from a DataFrame.\n",
      "Try using .loc[row_indexer,col_indexer] = value instead\n",
      "\n",
      "See the caveats in the documentation: http://pandas.pydata.org/pandas-docs/stable/user_guide/indexing.html#returning-a-view-versus-a-copy\n",
      "  This is separate from the ipykernel package so we can avoid doing imports until\n"
     ]
    },
    {
     "data": {
      "text/plain": [
       "-506.2349289520952"
      ]
     },
     "execution_count": 11,
     "metadata": {},
     "output_type": "execute_result"
    }
   ],
   "source": [
    "# including intercept term in Coefficients\n",
    "\n",
    "X_train['intercept_'] = 1\n",
    "betas = np.array(list(LRModel.coef_[0]) + [LRModel.intercept_[0]])\n",
    "\n",
    "y_pred_proba = sigmoid(X_train.dot(betas))\n",
    "LL_optimal = np.sum(y_train*np.log(y_pred_proba) + (1-y_train)*np.log(1-y_pred_proba))\n",
    "LL_optimal"
   ]
  },
  {
   "cell_type": "markdown",
   "metadata": {},
   "source": [
    "### Log Likelihood for range of Beta\n",
    "\n",
    "* Now, let us see how log-likelihood changes as we try a range of values for Beta (smartphone_notifications_viewed_optimal), with range of values on X-axis and Log-likelihood on the y-axis. We see that Log-likelihood peaks at 0.388."
   ]
  },
  {
   "cell_type": "code",
   "execution_count": 12,
   "metadata": {},
   "outputs": [
    {
     "data": {
      "text/plain": [
       "(60,)"
      ]
     },
     "execution_count": 12,
     "metadata": {},
     "output_type": "execute_result"
    }
   ],
   "source": [
    "smartphone_notifications_viewed_optimal = 0.388169\n",
    "\n",
    "np.arange(-3, 3, 0.1).shape"
   ]
  },
  {
   "cell_type": "code",
   "execution_count": 13,
   "metadata": {},
   "outputs": [
    {
     "name": "stderr",
     "output_type": "stream",
     "text": [
      "/anaconda3/lib/python3.7/site-packages/ipykernel_launcher.py:4: SettingWithCopyWarning: \n",
      "A value is trying to be set on a copy of a slice from a DataFrame.\n",
      "Try using .loc[row_indexer,col_indexer] = value instead\n",
      "\n",
      "See the caveats in the documentation: http://pandas.pydata.org/pandas-docs/stable/user_guide/indexing.html#returning-a-view-versus-a-copy\n",
      "  after removing the cwd from sys.path.\n"
     ]
    },
    {
     "data": {
      "text/plain": [
       "[-904.8399933326594,\n",
       " -886.4464459451135,\n",
       " -868.2249470964239,\n",
       " -850.1889351855494,\n",
       " -832.352728158149,\n",
       " -814.7315503825837,\n",
       " -797.3415573043692,\n",
       " -780.1998600543108,\n",
       " -763.3245532297885,\n",
       " -746.7347496838913]"
      ]
     },
     "execution_count": 13,
     "metadata": {},
     "output_type": "execute_result"
    }
   ],
   "source": [
    "LLs = []\n",
    "\n",
    "for i in range(0,len(np.arange(-3, 3, 0.1))):\n",
    "    X_train['intercept_'] = 1\n",
    "    betas = np.array(list(LRModel.coef_[0]) + [LRModel.intercept_[0]])\n",
    "\n",
    "\n",
    "    betas[3] = np.arange(-3, 3, 0.1)[i]\n",
    "    y_pred_proba = sigmoid(X_train.dot(betas))\n",
    "    LL = np.sum(y_train*np.log(y_pred_proba) + (1-y_train)*np.log(1-y_pred_proba))\n",
    "    LLs.append(LL)\n",
    "\n",
    "LLs[:10]"
   ]
  },
  {
   "cell_type": "markdown",
   "metadata": {},
   "source": [
    "### Range of Betas vs Log-Likelihood\n",
    "\n",
    "* From the plot below, we observe the Green line, at optimal Beta, Log-Likelihood is highest. However, the hypothesis checks if has a significant effect on Log-Odds. The difference on X-axis between the green and red lines, divided by the Standard Error of Beta, is the Wald's Z parameter.\n",
    "\n",
    "\n",
    "* As the direction of green-vector shows, the more distant Optimal Beta is, higher the Z-stat (given SE is constant), as Z depends on Beta and Standard Error of Beta."
   ]
  },
  {
   "cell_type": "code",
   "execution_count": 14,
   "metadata": {},
   "outputs": [
    {
     "data": {
      "image/png": "[encoded data removed]",
      "text/plain": [
       "<Figure size 864x576 with 1 Axes>"
      ]
     },
     "metadata": {
      "needs_background": "light"
     },
     "output_type": "display_data"
    }
   ],
   "source": [
    "plt.figure(figsize=(12,8))\n",
    "plt.grid()\n",
    "plt.xlabel(\"Range of Betas for 'smartphone_notifications_viewed_optimal'\")\n",
    "plt.ylabel('Log Likelihood')\n",
    "\n",
    "plt.plot(np.arange(-3, 3, 0.1), LLs)\n",
    "\n",
    "plt.scatter(smartphone_notifications_viewed_optimal, LL_optimal, color='g', marker='o', lw=5)\n",
    "plt.scatter(0, LL_optimal-5, color='r', marker='o', lw=5)\n",
    "\n",
    "plt.axvline(x=smartphone_notifications_viewed_optimal, color='g', label='Significant Effect')\n",
    "plt.axvline(x=0, color='r', label='No Effect')\n",
    "\n",
    "origin = [0], [-800] \n",
    "\n",
    "plt.quiver(*origin, 1.3,0, color=['g'], scale=21)\n",
    "plt.legend()\n",
    "\n",
    "plt.show()"
   ]
  },
  {
   "cell_type": "markdown",
   "metadata": {},
   "source": [
    "* Sometimes, we might observe that for a given cofficient, Log-likelihood could peak at Beta=0, signifying that the coefficient has no effect on prediction. In ther above case, it does make a significant difference (Walds Z of 2.83)."
   ]
  },
  {
   "cell_type": "code",
   "execution_count": 15,
   "metadata": {},
   "outputs": [],
   "source": [
    "# splitting into training and testing data\n",
    "from sklearn.model_selection import train_test_split\n",
    "X_train, X_test, y_train, y_test = train_test_split(X, y, test_size=0.5, random_state=42)\n",
    "\n",
    "pred_proba = LRModel.predict_proba(X_train)\n",
    "pred_proba_cls1 = pred_proba[:,1]"
   ]
  },
  {
   "cell_type": "markdown",
   "metadata": {},
   "source": [
    "Source: https://web.stanford.edu/class/archive/stats/stats200/stats200.1172/Lecture26.pdf (page 2)\n",
    "\n",
    "\n",
    "\n",
    "$$ Var(\\beta) = (X_TVX)^{-1}$$\n",
    "\n",
    "\n",
    "$$ SE(\\beta) = \\sqrt{Var(\\beta)} $$\n",
    "\n",
    "where X is the design matrix (Data matrix inlcuding addiitonal column for intercept), V is the p*(1-p) diagonal matrix (due to multiple binomial trails assumption)"
   ]
  },
  {
   "cell_type": "code",
   "execution_count": 16,
   "metadata": {},
   "outputs": [],
   "source": [
    "# p(1-p)\n",
    "mul_pred_proba = pred_proba_cls1*(1-pred_proba_cls1)\n",
    "\n",
    "# diagnal matrix of p(1-p)\n",
    "V = np.diag(mul_pred_proba)\n",
    "\n",
    "# Design Matrix\n",
    "X = np.matrix(X_train)\n",
    "\n",
    "# Adding data for intercept term\n",
    "X = np.hstack([np.ones((X.shape[0], 1)), X])\n",
    "\n",
    "# Variance\n",
    "Var = np.linalg.inv(np.dot(X.T, V).dot(X))\n",
    "\n",
    "# diagonalizing variance\n",
    "Var_diag = np.diag(Var)\n",
    "\n",
    "# Standard Errors\n",
    "SE = np.sqrt(Var_diag)"
   ]
  },
  {
   "cell_type": "markdown",
   "metadata": {},
   "source": [
    "* All diagonal terms of the matrix correspond to variance and all off-diagonal are covariances. We include these into our feature summary tables below and try to understand them. We also observe that the results we obtained are consistent with the statsmodel api summary table above.\n",
    "\n",
    "\n",
    "* We observe that <b>articles_viewed</b> and <b>marketing_emails_clicked</b> attributes have odds of 0.95 and 0.96 respectively, which means higher the value of articles viewed or marketing emails clicked, lower the chance of churn. However, the corresponding Walds Z values are <b>-1.05</b> and <b>-1.45</b>, which are statistically insignificant."
   ]
  },
  {
   "cell_type": "code",
   "execution_count": 17,
   "metadata": {},
   "outputs": [
    {
     "data": {
      "text/html": [
       "<div>\n",
       "<style scoped>\n",
       "    .dataframe tbody tr th:only-of-type {\n",
       "        vertical-align: middle;\n",
       "    }\n",
       "\n",
       "    .dataframe tbody tr th {\n",
       "        vertical-align: top;\n",
       "    }\n",
       "\n",
       "    .dataframe thead th {\n",
       "        text-align: right;\n",
       "    }\n",
       "</style>\n",
       "<table border=\"1\" class=\"dataframe\">\n",
       "  <thead>\n",
       "    <tr style=\"text-align: right;\">\n",
       "      <th></th>\n",
       "      <th>features</th>\n",
       "      <th>beta</th>\n",
       "      <th>odds</th>\n",
       "      <th>SE</th>\n",
       "      <th>Walds Z</th>\n",
       "    </tr>\n",
       "  </thead>\n",
       "  <tbody>\n",
       "    <tr>\n",
       "      <th>0</th>\n",
       "      <td>intercept_term</td>\n",
       "      <td>6.295301</td>\n",
       "      <td>542.0191800843253</td>\n",
       "      <td>0.851673</td>\n",
       "      <td>7.392</td>\n",
       "    </tr>\n",
       "    <tr>\n",
       "      <th>1</th>\n",
       "      <td>product_data_storage</td>\n",
       "      <td>-0.000186</td>\n",
       "      <td>0.9998136939264295</td>\n",
       "      <td>0.000068</td>\n",
       "      <td>-2.738</td>\n",
       "    </tr>\n",
       "    <tr>\n",
       "      <th>2</th>\n",
       "      <td>csat_score</td>\n",
       "      <td>-0.641847</td>\n",
       "      <td>0.5263196617231177</td>\n",
       "      <td>0.085141</td>\n",
       "      <td>-7.539</td>\n",
       "    </tr>\n",
       "    <tr>\n",
       "      <th>3</th>\n",
       "      <td>articles_viewed</td>\n",
       "      <td>-0.003096</td>\n",
       "      <td>0.9969084295670883</td>\n",
       "      <td>0.037690</td>\n",
       "      <td>-0.082</td>\n",
       "    </tr>\n",
       "    <tr>\n",
       "      <th>4</th>\n",
       "      <td>smartphone_notifications_viewed</td>\n",
       "      <td>0.353378</td>\n",
       "      <td>1.423869216841277</td>\n",
       "      <td>0.126698</td>\n",
       "      <td>2.789</td>\n",
       "    </tr>\n",
       "    <tr>\n",
       "      <th>5</th>\n",
       "      <td>marketing_emails_clicked</td>\n",
       "      <td>0.025908</td>\n",
       "      <td>1.0262466100065433</td>\n",
       "      <td>0.023884</td>\n",
       "      <td>1.085</td>\n",
       "    </tr>\n",
       "    <tr>\n",
       "      <th>6</th>\n",
       "      <td>social_media_ads_viewed</td>\n",
       "      <td>-0.306090</td>\n",
       "      <td>0.7363202800633711</td>\n",
       "      <td>0.138936</td>\n",
       "      <td>-2.203</td>\n",
       "    </tr>\n",
       "    <tr>\n",
       "      <th>7</th>\n",
       "      <td>minutes_customer_support</td>\n",
       "      <td>0.082391</td>\n",
       "      <td>1.0858800288073274</td>\n",
       "      <td>0.014956</td>\n",
       "      <td>5.509</td>\n",
       "    </tr>\n",
       "    <tr>\n",
       "      <th>8</th>\n",
       "      <td>months_active</td>\n",
       "      <td>-0.289009</td>\n",
       "      <td>0.7490054957724708</td>\n",
       "      <td>0.039563</td>\n",
       "      <td>-7.305</td>\n",
       "    </tr>\n",
       "  </tbody>\n",
       "</table>\n",
       "</div>"
      ],
      "text/plain": [
       "                          features      beta                odds        SE  \\\n",
       "0                   intercept_term  6.295301   542.0191800843253  0.851673   \n",
       "1             product_data_storage -0.000186  0.9998136939264295  0.000068   \n",
       "2                       csat_score -0.641847  0.5263196617231177  0.085141   \n",
       "3                  articles_viewed -0.003096  0.9969084295670883  0.037690   \n",
       "4  smartphone_notifications_viewed  0.353378   1.423869216841277  0.126698   \n",
       "5         marketing_emails_clicked  0.025908  1.0262466100065433  0.023884   \n",
       "6          social_media_ads_viewed -0.306090  0.7363202800633711  0.138936   \n",
       "7         minutes_customer_support  0.082391  1.0858800288073274  0.014956   \n",
       "8                    months_active -0.289009  0.7490054957724708  0.039563   \n",
       "\n",
       "   Walds Z  \n",
       "0    7.392  \n",
       "1   -2.738  \n",
       "2   -7.539  \n",
       "3   -0.082  \n",
       "4    2.789  \n",
       "5    1.085  \n",
       "6   -2.203  \n",
       "7    5.509  \n",
       "8   -7.305  "
      ]
     },
     "execution_count": 17,
     "metadata": {},
     "output_type": "execute_result"
    }
   ],
   "source": [
    "df_feat['SE'] = SE\n",
    "df_feat['Walds Z'] = np.round((df_feat.beta/SE),3)\n",
    "# df_feat['Walds Z'] = df_feat['Walds Z'].astype('str')\n",
    "\n",
    "df_feat"
   ]
  },
  {
   "cell_type": "markdown",
   "metadata": {},
   "source": [
    "### Why do we need likelihood ratio test when we already have Walds Z-estimate ?\n",
    "\n",
    "* Walds test looks for significant features, contributing to predictions. However, we could also test the hypothesis if there is a more complex decision boundary which could be captured by the data attributes. \n",
    "\n",
    "\n",
    "* Essentially, Walds and Likelihood Ratio Tests are testing for <b>different hypotheses</b>. Walds tests for how <b>further away</b> the coefficient is from (X=0), whereas Likelihood Ratio test is testing if the underlying data can find better decision boundary by including the variable vs not including the variable. \n",
    "\n",
    "\n",
    "* Using the Likelihood ratio test, we can see the direct contribution of a variable being included in a model vs not being included in the Likelihoods. Previously, Walds test was looking for <b>values further away, along the X-direction, whereas Likelihood Test is looking for gain in height (or Likelihood)</b>."
   ]
  },
  {
   "cell_type": "markdown",
   "metadata": {},
   "source": [
    "<a id='3'></a>\n",
    "# Likelihood Ratio Test\n",
    "\n",
    "* Below, we inlcude a new attribute for multiplying with Model intercept, called 'intercept_' and set it to 1. Function LLwithoutBeta(X_, LRModel, remove_val_ind) calculates the LL of the model after replacing the beta value by 0 for each index. \n",
    "\n",
    "\n",
    "* Hence, for each attribute, we have two models (with and without including the attribute in the model), to understand its contribution to Log-Likelihood. It can also be used as a feature selection method to see if there is a significant decrease in Log-Likelihood and then decide to inlcude the model or not."
   ]
  },
  {
   "cell_type": "code",
   "execution_count": 18,
   "metadata": {},
   "outputs": [
    {
     "data": {
      "text/html": [
       "<div>\n",
       "<style scoped>\n",
       "    .dataframe tbody tr th:only-of-type {\n",
       "        vertical-align: middle;\n",
       "    }\n",
       "\n",
       "    .dataframe tbody tr th {\n",
       "        vertical-align: top;\n",
       "    }\n",
       "\n",
       "    .dataframe thead th {\n",
       "        text-align: right;\n",
       "    }\n",
       "</style>\n",
       "<table border=\"1\" class=\"dataframe\">\n",
       "  <thead>\n",
       "    <tr style=\"text-align: right;\">\n",
       "      <th></th>\n",
       "      <th>product_data_storage</th>\n",
       "      <th>csat_score</th>\n",
       "      <th>articles_viewed</th>\n",
       "      <th>smartphone_notifications_viewed</th>\n",
       "      <th>marketing_emails_clicked</th>\n",
       "      <th>social_media_ads_viewed</th>\n",
       "      <th>minutes_customer_support</th>\n",
       "      <th>months_active</th>\n",
       "      <th>intercept_</th>\n",
       "    </tr>\n",
       "  </thead>\n",
       "  <tbody>\n",
       "    <tr>\n",
       "      <th>440</th>\n",
       "      <td>2048</td>\n",
       "      <td>9</td>\n",
       "      <td>3</td>\n",
       "      <td>2</td>\n",
       "      <td>16</td>\n",
       "      <td>0</td>\n",
       "      <td>54.0</td>\n",
       "      <td>3.0</td>\n",
       "      <td>1</td>\n",
       "    </tr>\n",
       "    <tr>\n",
       "      <th>573</th>\n",
       "      <td>200</td>\n",
       "      <td>10</td>\n",
       "      <td>3</td>\n",
       "      <td>0</td>\n",
       "      <td>18</td>\n",
       "      <td>1</td>\n",
       "      <td>0.0</td>\n",
       "      <td>11.0</td>\n",
       "      <td>1</td>\n",
       "    </tr>\n",
       "    <tr>\n",
       "      <th>946</th>\n",
       "      <td>5120</td>\n",
       "      <td>10</td>\n",
       "      <td>4</td>\n",
       "      <td>0</td>\n",
       "      <td>14</td>\n",
       "      <td>1</td>\n",
       "      <td>0.0</td>\n",
       "      <td>8.0</td>\n",
       "      <td>1</td>\n",
       "    </tr>\n",
       "    <tr>\n",
       "      <th>997</th>\n",
       "      <td>2048</td>\n",
       "      <td>7</td>\n",
       "      <td>7</td>\n",
       "      <td>0</td>\n",
       "      <td>12</td>\n",
       "      <td>0</td>\n",
       "      <td>0.0</td>\n",
       "      <td>3.0</td>\n",
       "      <td>1</td>\n",
       "    </tr>\n",
       "    <tr>\n",
       "      <th>503</th>\n",
       "      <td>500</td>\n",
       "      <td>10</td>\n",
       "      <td>4</td>\n",
       "      <td>0</td>\n",
       "      <td>14</td>\n",
       "      <td>1</td>\n",
       "      <td>23.5</td>\n",
       "      <td>1.0</td>\n",
       "      <td>1</td>\n",
       "    </tr>\n",
       "  </tbody>\n",
       "</table>\n",
       "</div>"
      ],
      "text/plain": [
       "     product_data_storage  csat_score  articles_viewed  \\\n",
       "440                  2048           9                3   \n",
       "573                   200          10                3   \n",
       "946                  5120          10                4   \n",
       "997                  2048           7                7   \n",
       "503                   500          10                4   \n",
       "\n",
       "     smartphone_notifications_viewed  marketing_emails_clicked  \\\n",
       "440                                2                        16   \n",
       "573                                0                        18   \n",
       "946                                0                        14   \n",
       "997                                0                        12   \n",
       "503                                0                        14   \n",
       "\n",
       "     social_media_ads_viewed  minutes_customer_support  months_active  \\\n",
       "440                        0                      54.0            3.0   \n",
       "573                        1                       0.0           11.0   \n",
       "946                        1                       0.0            8.0   \n",
       "997                        0                       0.0            3.0   \n",
       "503                        1                      23.5            1.0   \n",
       "\n",
       "     intercept_  \n",
       "440           1  \n",
       "573           1  \n",
       "946           1  \n",
       "997           1  \n",
       "503           1  "
      ]
     },
     "execution_count": 18,
     "metadata": {},
     "output_type": "execute_result"
    }
   ],
   "source": [
    "betas = np.array(list(LRModel.coef_[0]) + [LRModel.intercept_[0]]).tolist()\n",
    "X_ = X_train\n",
    "X_['intercept_'] = 1\n",
    "\n",
    "X_.head()"
   ]
  },
  {
   "cell_type": "code",
   "execution_count": 19,
   "metadata": {},
   "outputs": [],
   "source": [
    "# function return LL\n",
    "def LLwithoutBeta(X_, LRModel, remove_val_ind):\n",
    "    \n",
    "    # extract betas\n",
    "    betas = np.array(list(LRModel.coef_[0]) + [LRModel.intercept_[0]]).tolist()\n",
    "    \n",
    "    # replace index with 0\n",
    "    betas[remove_val_ind] = 0\n",
    "\n",
    "    # predict_proba\n",
    "    y_pred_proba = sigmoid(X_.dot(betas))\n",
    "    \n",
    "    # calculating LL\n",
    "    LL = np.sum(y_train*np.log(y_pred_proba) + (1-y_train)*np.log(1-y_pred_proba))\n",
    "    \n",
    "    return LL"
   ]
  },
  {
   "cell_type": "code",
   "execution_count": 20,
   "metadata": {},
   "outputs": [
    {
     "data": {
      "text/plain": [
       "[-516.0435123978509,\n",
       " -2745.1809654252834,\n",
       " -506.2498905187698,\n",
       " -512.3541846727851,\n",
       " -522.8334369927825,\n",
       " -509.84825874029804,\n",
       " -531.7385744472865,\n",
       " -661.348101453711,\n",
       " -2658.449182452225]"
      ]
     },
     "execution_count": 20,
     "metadata": {},
     "output_type": "execute_result"
    }
   ],
   "source": [
    "LLs = [LLwithoutBeta(X_, LRModel, val) for val in range(0,len(betas))]\n",
    "\n",
    "LLs"
   ]
  },
  {
   "cell_type": "markdown",
   "metadata": {},
   "source": [
    "* Log-Likelihood at most optimal Betas is -488.9079452207212."
   ]
  },
  {
   "cell_type": "code",
   "execution_count": 21,
   "metadata": {},
   "outputs": [
    {
     "data": {
      "text/plain": [
       "-506.2349289520952"
      ]
     },
     "execution_count": 21,
     "metadata": {},
     "output_type": "execute_result"
    }
   ],
   "source": [
    "# including intercept term in Coefficients\n",
    "\n",
    "X_train['intercept_'] = 1\n",
    "betas = np.array(list(LRModel.coef_[0]) + [LRModel.intercept_[0]])\n",
    "\n",
    "y_pred_proba = sigmoid(X_train.dot(betas))\n",
    "LL_optimal = np.sum(y_train*np.log(y_pred_proba) + (1-y_train)*np.log(1-y_pred_proba))\n",
    "LL_optimal"
   ]
  },
  {
   "cell_type": "markdown",
   "metadata": {},
   "source": [
    "### Calculating Likelihood Ratio and associated p-value\n",
    "\n",
    "Likelihood ratio is defined as twice the ratio of LogLikelihood of full model vs LogLikelihood of model without the coefficient, and has an asymptotic Chi-Squared distribution under the null hypothesis.\n",
    "\n",
    "$$ LR = 2(LL_{optimal} - LL_{null})$$"
   ]
  },
  {
   "cell_type": "code",
   "execution_count": 22,
   "metadata": {},
   "outputs": [],
   "source": [
    "# calculating Likelihood Ratios for all coefficients\n",
    "LikelihoodRatio = [np.round(2*(LL_optimal - LLs[i]),2) for i in range(0,len(betas))]\n",
    "df_feat['LikelihoodRatio-t'] = LikelihoodRatio\n",
    "\n",
    "# obtaining p-values for the Chi-squared distribution\n",
    "from scipy.stats import chi2\n",
    "p_LR = [np.round(1 - chi2.cdf(val,1),3) for val in LikelihoodRatio]\n",
    "df_feat['p_value_LR'] = p_LR"
   ]
  },
  {
   "cell_type": "code",
   "execution_count": 23,
   "metadata": {},
   "outputs": [
    {
     "data": {
      "text/html": [
       "<div>\n",
       "<style scoped>\n",
       "    .dataframe tbody tr th:only-of-type {\n",
       "        vertical-align: middle;\n",
       "    }\n",
       "\n",
       "    .dataframe tbody tr th {\n",
       "        vertical-align: top;\n",
       "    }\n",
       "\n",
       "    .dataframe thead th {\n",
       "        text-align: right;\n",
       "    }\n",
       "</style>\n",
       "<table border=\"1\" class=\"dataframe\">\n",
       "  <thead>\n",
       "    <tr style=\"text-align: right;\">\n",
       "      <th></th>\n",
       "      <th>features</th>\n",
       "      <th>beta</th>\n",
       "      <th>odds</th>\n",
       "      <th>SE</th>\n",
       "      <th>Walds Z</th>\n",
       "      <th>LikelihoodRatio-t</th>\n",
       "      <th>p_value_LR</th>\n",
       "    </tr>\n",
       "  </thead>\n",
       "  <tbody>\n",
       "    <tr>\n",
       "      <th>0</th>\n",
       "      <td>intercept_term</td>\n",
       "      <td>6.295301</td>\n",
       "      <td>542.0191800843253</td>\n",
       "      <td>0.851673</td>\n",
       "      <td>7.392</td>\n",
       "      <td>19.62</td>\n",
       "      <td>0.000</td>\n",
       "    </tr>\n",
       "    <tr>\n",
       "      <th>1</th>\n",
       "      <td>product_data_storage</td>\n",
       "      <td>-0.000186</td>\n",
       "      <td>0.9998136939264295</td>\n",
       "      <td>0.000068</td>\n",
       "      <td>-2.738</td>\n",
       "      <td>4477.89</td>\n",
       "      <td>0.000</td>\n",
       "    </tr>\n",
       "    <tr>\n",
       "      <th>2</th>\n",
       "      <td>csat_score</td>\n",
       "      <td>-0.641847</td>\n",
       "      <td>0.5263196617231177</td>\n",
       "      <td>0.085141</td>\n",
       "      <td>-7.539</td>\n",
       "      <td>0.03</td>\n",
       "      <td>0.862</td>\n",
       "    </tr>\n",
       "    <tr>\n",
       "      <th>3</th>\n",
       "      <td>articles_viewed</td>\n",
       "      <td>-0.003096</td>\n",
       "      <td>0.9969084295670883</td>\n",
       "      <td>0.037690</td>\n",
       "      <td>-0.082</td>\n",
       "      <td>12.24</td>\n",
       "      <td>0.000</td>\n",
       "    </tr>\n",
       "    <tr>\n",
       "      <th>4</th>\n",
       "      <td>smartphone_notifications_viewed</td>\n",
       "      <td>0.353378</td>\n",
       "      <td>1.423869216841277</td>\n",
       "      <td>0.126698</td>\n",
       "      <td>2.789</td>\n",
       "      <td>33.20</td>\n",
       "      <td>0.000</td>\n",
       "    </tr>\n",
       "    <tr>\n",
       "      <th>5</th>\n",
       "      <td>marketing_emails_clicked</td>\n",
       "      <td>0.025908</td>\n",
       "      <td>1.0262466100065433</td>\n",
       "      <td>0.023884</td>\n",
       "      <td>1.085</td>\n",
       "      <td>7.23</td>\n",
       "      <td>0.007</td>\n",
       "    </tr>\n",
       "    <tr>\n",
       "      <th>6</th>\n",
       "      <td>social_media_ads_viewed</td>\n",
       "      <td>-0.306090</td>\n",
       "      <td>0.7363202800633711</td>\n",
       "      <td>0.138936</td>\n",
       "      <td>-2.203</td>\n",
       "      <td>51.01</td>\n",
       "      <td>0.000</td>\n",
       "    </tr>\n",
       "    <tr>\n",
       "      <th>7</th>\n",
       "      <td>minutes_customer_support</td>\n",
       "      <td>0.082391</td>\n",
       "      <td>1.0858800288073274</td>\n",
       "      <td>0.014956</td>\n",
       "      <td>5.509</td>\n",
       "      <td>310.23</td>\n",
       "      <td>0.000</td>\n",
       "    </tr>\n",
       "    <tr>\n",
       "      <th>8</th>\n",
       "      <td>months_active</td>\n",
       "      <td>-0.289009</td>\n",
       "      <td>0.7490054957724708</td>\n",
       "      <td>0.039563</td>\n",
       "      <td>-7.305</td>\n",
       "      <td>4304.43</td>\n",
       "      <td>0.000</td>\n",
       "    </tr>\n",
       "  </tbody>\n",
       "</table>\n",
       "</div>"
      ],
      "text/plain": [
       "                          features      beta                odds        SE  \\\n",
       "0                   intercept_term  6.295301   542.0191800843253  0.851673   \n",
       "1             product_data_storage -0.000186  0.9998136939264295  0.000068   \n",
       "2                       csat_score -0.641847  0.5263196617231177  0.085141   \n",
       "3                  articles_viewed -0.003096  0.9969084295670883  0.037690   \n",
       "4  smartphone_notifications_viewed  0.353378   1.423869216841277  0.126698   \n",
       "5         marketing_emails_clicked  0.025908  1.0262466100065433  0.023884   \n",
       "6          social_media_ads_viewed -0.306090  0.7363202800633711  0.138936   \n",
       "7         minutes_customer_support  0.082391  1.0858800288073274  0.014956   \n",
       "8                    months_active -0.289009  0.7490054957724708  0.039563   \n",
       "\n",
       "   Walds Z  LikelihoodRatio-t  p_value_LR  \n",
       "0    7.392              19.62       0.000  \n",
       "1   -2.738            4477.89       0.000  \n",
       "2   -7.539               0.03       0.862  \n",
       "3   -0.082              12.24       0.000  \n",
       "4    2.789              33.20       0.000  \n",
       "5    1.085               7.23       0.007  \n",
       "6   -2.203              51.01       0.000  \n",
       "7    5.509             310.23       0.000  \n",
       "8   -7.305            4304.43       0.000  "
      ]
     },
     "execution_count": 23,
     "metadata": {},
     "output_type": "execute_result"
    }
   ],
   "source": [
    "df_feat"
   ]
  },
  {
   "cell_type": "markdown",
   "metadata": {},
   "source": [
    "* Hence, we see that all features are statistically significant and contribute to increase in Log-Likelihood. Considering Walds-Z and Likelihood Ratio-t stats together provides evidence for significances of effect and increase in Loglikelihood at the same time (See that few attributes have lower Z, but high T).\n",
    "\n",
    "\n",
    "* Likelihood-Ratio test can be used to decide when we want to include new features or interaction terms, and Walds Z can provide evidence of significance of coefficient to predict log-odds and interpret magnitude and direction of effect."
   ]
  }
 ],
 "metadata": {
  "kernelspec": {
   "display_name": "Python 3",
   "language": "python",
   "name": "python3"
  },
  "language_info": {
   "codemirror_mode": {
    "name": "ipython",
    "version": 3
   },
   "file_extension": ".py",
   "mimetype": "text/x-python",
   "name": "python",
   "nbconvert_exporter": "python",
   "pygments_lexer": "ipython3",
   "version": "3.7.1"
  }
 },
 "nbformat": 4,
 "nbformat_minor": 2
}
