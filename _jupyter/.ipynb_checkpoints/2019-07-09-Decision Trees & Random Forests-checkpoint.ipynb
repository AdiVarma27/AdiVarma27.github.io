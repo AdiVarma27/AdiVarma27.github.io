{
 "cells": [
  {
   "cell_type": "markdown",
   "metadata": {},
   "source": [
    "# Decision Trees & Random Forests"
   ]
  },
  {
   "cell_type": "markdown",
   "metadata": {},
   "source": [
    "* In this notebook, we take a look at the intuition behind ID-3 Algorithm, and how it extends to Random Forests. In any Classification, Regression task, I personally use Decision tree algorithm as a first attempt to understand important features in a given dataset. \n",
    "* Before we start coding a decision tree, we need to understand the concept of Entropy, in Information theory. Decision trees are non-parametric (the model makes no assumptions, unlike many other traditional method, and makes most Intuitive sense in visualizing it !)\n",
    "\n",
    "### Entropy\n",
    "* The formal definition of entropy is as follows: H(x) is the expected number of bits needed to encode randomly drawn value of X.\n",
    "\n",
    "$$ H(x) =-\\sum _{i}P_{i}\\log {P_{i}} $$\n",
    "\n",
    "* To put simply, entropy conveys the impurity of a set/ vector. We know for a fair coin, probability of heads = 0.5. For 1000 random trials, we would get highest Pmf values at 0.5 (According to law of large numbers), hence, it has the more impurity (equally likely to be heads or tails).\n",
    "\n",
    "* For a biased coin (say probability of heads = 0.9, the impurity is much lesser, when compared to an unbiased coin), hence, would have lesser entropy."
   ]
  },
  {
   "cell_type": "code",
   "execution_count": 1,
   "metadata": {},
   "outputs": [],
   "source": [
    "import math\n",
    "import numpy as np\n",
    "import pandas as pd\n",
    "import matplotlib.pyplot as plt\n",
    "\n",
    "# function to return Entropy\n",
    "def EntropyCoin(p_heads):\n",
    "    p_tails = 1 - p_heads\n",
    "    return  -(p_heads*math.log2(p_heads) + p_tails*math.log2(p_tails))"
   ]
  },
  {
   "cell_type": "code",
   "execution_count": 2,
   "metadata": {},
   "outputs": [],
   "source": [
    "# Iterating through probability of heads\n",
    "    \n",
    "entropy_val = [EntropyCoin(i) for i in np.arange(0.0001,0.9999,0.01)]"
   ]
  },
  {
   "cell_type": "code",
   "execution_count": 3,
   "metadata": {},
   "outputs": [
    {
     "data": {
      "text/plain": [
       "[<matplotlib.lines.Line2D at 0x11f481550>]"
      ]
     },
     "execution_count": 3,
     "metadata": {},
     "output_type": "execute_result"
    },
    {
     "data": {
      "image/png": "[encoded data removed]",
      "text/plain": [
       "<Figure size 432x288 with 1 Axes>"
      ]
     },
     "metadata": {
      "needs_background": "light"
     },
     "output_type": "display_data"
    }
   ],
   "source": [
    "plt.ylabel('Entropy/ Impurity')\n",
    "plt.xlabel('Probabilit of heads')\n",
    "plt.plot(np.arange(0.0001,0.9999,0.01), entropy_val)"
   ]
  },
  {
   "cell_type": "markdown",
   "metadata": {},
   "source": [
    "* Above, we see that Entropy = 1, at p_heads = p_tails = 0.5 (Highest impurity), whereas p_heads = 0 and p_heads = 1, has least impurity."
   ]
  },
  {
   "cell_type": "markdown",
   "metadata": {},
   "source": [
    "#### Specific Conditional Entropy, Conditional Entropy & Information Gain\n",
    "\n",
    "* Entropy can be conditioned across different categories of an attribute, and specific conditional entropy can be calculated.\n",
    "\n",
    "* Conditional Entropy is the weighted average of specific conditional entropy various categories by the probability of their occurances. \n",
    "\n",
    "* The difference between the Entropy of the base attribute and the conditional entropy is the Information Gain (basically describes if we gain more information by using the next attribute, and we would use an attribute which maximizes Information gain). This concept is sufficient to develop an Industrial level Classifier/ Regressor, along with the ID3-algorithm.\n",
    "\n",
    "* For example, let us consider the following dataset, we calculate the specific entropy, conditional entropy and Information gain to decide the best-attribute to help classify if the playground is open today."
   ]
  },
  {
   "cell_type": "code",
   "execution_count": 4,
   "metadata": {},
   "outputs": [
    {
     "data": {
      "text/html": [
       "<div>\n",
       "<style scoped>\n",
       "    .dataframe tbody tr th:only-of-type {\n",
       "        vertical-align: middle;\n",
       "    }\n",
       "\n",
       "    .dataframe tbody tr th {\n",
       "        vertical-align: top;\n",
       "    }\n",
       "\n",
       "    .dataframe thead th {\n",
       "        text-align: right;\n",
       "    }\n",
       "</style>\n",
       "<table border=\"1\" class=\"dataframe\">\n",
       "  <thead>\n",
       "    <tr style=\"text-align: right;\">\n",
       "      <th></th>\n",
       "      <th>rainy</th>\n",
       "      <th>sunny</th>\n",
       "      <th>is_open</th>\n",
       "    </tr>\n",
       "  </thead>\n",
       "  <tbody>\n",
       "    <tr>\n",
       "      <th>0</th>\n",
       "      <td>yes</td>\n",
       "      <td>no</td>\n",
       "      <td>0</td>\n",
       "    </tr>\n",
       "    <tr>\n",
       "      <th>1</th>\n",
       "      <td>yes</td>\n",
       "      <td>no</td>\n",
       "      <td>0</td>\n",
       "    </tr>\n",
       "    <tr>\n",
       "      <th>2</th>\n",
       "      <td>yes</td>\n",
       "      <td>yes</td>\n",
       "      <td>0</td>\n",
       "    </tr>\n",
       "    <tr>\n",
       "      <th>3</th>\n",
       "      <td>no</td>\n",
       "      <td>yes</td>\n",
       "      <td>1</td>\n",
       "    </tr>\n",
       "    <tr>\n",
       "      <th>4</th>\n",
       "      <td>no</td>\n",
       "      <td>no</td>\n",
       "      <td>1</td>\n",
       "    </tr>\n",
       "  </tbody>\n",
       "</table>\n",
       "</div>"
      ],
      "text/plain": [
       "  rainy sunny  is_open\n",
       "0   yes    no        0\n",
       "1   yes    no        0\n",
       "2   yes   yes        0\n",
       "3    no   yes        1\n",
       "4    no    no        1"
      ]
     },
     "execution_count": 4,
     "metadata": {},
     "output_type": "execute_result"
    }
   ],
   "source": [
    "# The task is to generate a decision tree to help classify if it is going to rain or not.\n",
    "\n",
    "df = pd.DataFrame()\n",
    "df['rainy'] = ['yes','yes','yes','no','no']\n",
    "df['sunny'] = ['no','no','yes','yes','no']\n",
    "df['is_open'] = [0, 0, 0, 1, 1]\n",
    "df"
   ]
  },
  {
   "cell_type": "markdown",
   "metadata": {},
   "source": [
    "* We can use either the rainy or sunny attribute to classify a new data-point, first lets calculate the Class-Entropy. Of the 5 rows, we have the playground open 3 times, and closed 2 times. Hence, class entropy is \n",
    "\n",
    "$$ - [(3/5)*log2(3/5) + (2/5)*log2(2/5)] = 0.97 $$\n",
    "\n",
    "* Hence, we can say the the data-set is impure (almost = 1), meaning we have almost equal number of data-points in either of the classes. Now, let us decide on which attribute to use for classifying our points; we have two attributes at hand, let us start by calculating the Specific Entropy of each attribute."
   ]
  },
  {
   "cell_type": "markdown",
   "metadata": {},
   "source": [
    "<img src=\"decisiontree/1.png\">\n",
    "<img src=\"decisiontree/2.png\">"
   ]
  },
  {
   "cell_type": "markdown",
   "metadata": {},
   "source": [
    "* We have the specific conditional probabilities for each of the attributes, and we can now calculate the Conditional probability of each of the attributes. \n",
    "\n",
    "$$ H(rainy: yes) = 0, H(rainy: no) = 0 $$\n",
    "\n",
    "$$ H(sunny: yes) = 1, H(sunny: no) = 0.91 $$\n",
    "\n",
    "* Conditional Entropy for attribute rainy:\n",
    "\n",
    "$$ H(rainy)  =  - [ P(rainy: yes)*H(rainy: yes) + P(rainy: no)*H(rainy: no)] $$\n",
    "\n",
    "$$ H(rainy)  =  - [(3/5)*(0) + (2/5)*(0)] = 0 $$\n",
    "\n",
    "* Conditional Entropy for attribute sunny:\n",
    "\n",
    "$$ H(sunny)  =  - [ P(sunny: yes)*H(sunny: yes) + P(sunny: no)*H(sunny: no)] $$\n",
    "\n",
    "$$ H(sunny)  =  - [(2/5)*(1) + (3/5)*(0.91)] = 0.946 $$\n",
    "\n",
    "* Now, we can calculate Information Gain for each of the attributes:\n",
    "\n",
    "$$ InfoGain(rainy) = ClassEntropy - H(rainy) = 0.97 - 0.0 = 0.97 $$\n",
    "\n",
    "$$ InfoGain(sunny) = ClassEntropy - H(sunny) = 0.97 - 0.946 = 0.024 $$\n",
    "\n",
    "\n",
    "* Of the two information attributes above, we should use the 'rainy' attribute to split our decision tree first, followed by 'sunny' attribute."
   ]
  },
  {
   "cell_type": "code",
   "execution_count": 28,
   "metadata": {},
   "outputs": [],
   "source": [
    "df = pd.DataFrame()\n",
    "df['rainy'] = [1,1,1,0,0]\n",
    "df['sunny'] = [0,0,1,1,0]\n",
    "df['is_open'] = [0, 0, 0, 1, 1]\n",
    "df\n",
    "\n",
    "from sklearn.tree import DecisionTreeClassifier\n",
    "from sklearn import tree\n",
    "\n",
    "dt_clf = DecisionTreeClassifier(criterion='entropy')\n",
    "dt_clf = dt_clf.fit(df[['rainy','sunny']], df.is_open)"
   ]
  },
  {
   "cell_type": "code",
   "execution_count": 29,
   "metadata": {},
   "outputs": [
    {
     "data": {
      "text/plain": [
       "DecisionTreeClassifier(class_weight=None, criterion='entropy', max_depth=None,\n",
       "            max_features=None, max_leaf_nodes=None,\n",
       "            min_impurity_decrease=0.0, min_impurity_split=None,\n",
       "            min_samples_leaf=1, min_samples_split=2,\n",
       "            min_weight_fraction_leaf=0.0, presort=False, random_state=None,\n",
       "            splitter='best')"
      ]
     },
     "execution_count": 29,
     "metadata": {},
     "output_type": "execute_result"
    }
   ],
   "source": [
    "dt_clf"
   ]
  },
  {
   "cell_type": "markdown",
   "metadata": {},
   "source": [
    "* Below is the final Decision Tree Classifier which includes set of rules to classify the data. The only condition which matters is wether it is rainy or not. If it is not rainy, the playground if open, else the play-ground is closed. Note that there is no influence of the second attribute (sunny), whatsoever. \n",
    "\n",
    "* Hence, observe the feature importance of the two attributes. "
   ]
  },
  {
   "cell_type": "code",
   "execution_count": 48,
   "metadata": {},
   "outputs": [
    {
     "data": {
      "image/svg+xml": [
       "<?xml version=\"1.0\" encoding=\"UTF-8\" standalone=\"no\"?>\n",
       "<!DOCTYPE svg PUBLIC \"-//W3C//DTD SVG 1.1//EN\"\n",
       " \"http://www.w3.org/Graphics/SVG/1.1/DTD/svg11.dtd\">\n",
       "<!-- Generated by graphviz version 2.40.1 (20161225.0304)\n",
       " -->\n",
       "<!-- Title: Tree Pages: 1 -->\n",
       "<svg width=\"210pt\" height=\"165pt\"\n",
       " viewBox=\"0.00 0.00 210.00 165.00\" xmlns=\"http://www.w3.org/2000/svg\" xmlns:xlink=\"http://www.w3.org/1999/xlink\">\n",
       "<g id=\"graph0\" class=\"graph\" transform=\"scale(1 1) rotate(0) translate(4 161)\">\n",
       "<title>Tree</title>\n",
       "<polygon fill=\"#ffffff\" stroke=\"transparent\" points=\"-4,4 -4,-161 206,-161 206,4 -4,4\"/>\n",
       "<!-- 0 -->\n",
       "<g id=\"node1\" class=\"node\">\n",
       "<title>0</title>\n",
       "<polygon fill=\"none\" stroke=\"#000000\" points=\"154,-157 48,-157 48,-89 154,-89 154,-157\"/>\n",
       "<text text-anchor=\"middle\" x=\"101\" y=\"-141.8\" font-family=\"Times,serif\" font-size=\"14.00\" fill=\"#000000\">rainy &lt;= 0.5</text>\n",
       "<text text-anchor=\"middle\" x=\"101\" y=\"-126.8\" font-family=\"Times,serif\" font-size=\"14.00\" fill=\"#000000\">entropy = 0.971</text>\n",
       "<text text-anchor=\"middle\" x=\"101\" y=\"-111.8\" font-family=\"Times,serif\" font-size=\"14.00\" fill=\"#000000\">samples = 5</text>\n",
       "<text text-anchor=\"middle\" x=\"101\" y=\"-96.8\" font-family=\"Times,serif\" font-size=\"14.00\" fill=\"#000000\">value = [3, 2]</text>\n",
       "</g>\n",
       "<!-- 1 -->\n",
       "<g id=\"node2\" class=\"node\">\n",
       "<title>1</title>\n",
       "<polygon fill=\"none\" stroke=\"#000000\" points=\"92,-53 0,-53 0,0 92,0 92,-53\"/>\n",
       "<text text-anchor=\"middle\" x=\"46\" y=\"-37.8\" font-family=\"Times,serif\" font-size=\"14.00\" fill=\"#000000\">entropy = 0.0</text>\n",
       "<text text-anchor=\"middle\" x=\"46\" y=\"-22.8\" font-family=\"Times,serif\" font-size=\"14.00\" fill=\"#000000\">samples = 2</text>\n",
       "<text text-anchor=\"middle\" x=\"46\" y=\"-7.8\" font-family=\"Times,serif\" font-size=\"14.00\" fill=\"#000000\">value = [0, 2]</text>\n",
       "</g>\n",
       "<!-- 0&#45;&gt;1 -->\n",
       "<g id=\"edge1\" class=\"edge\">\n",
       "<title>0&#45;&gt;1</title>\n",
       "<path fill=\"none\" stroke=\"#000000\" d=\"M81.6091,-88.9777C76.651,-80.2786 71.3067,-70.9018 66.3042,-62.1247\"/>\n",
       "<polygon fill=\"#000000\" stroke=\"#000000\" points=\"69.2378,-60.2033 61.2452,-53.2485 63.1562,-63.6696 69.2378,-60.2033\"/>\n",
       "<text text-anchor=\"middle\" x=\"54.6404\" y=\"-73.6602\" font-family=\"Times,serif\" font-size=\"14.00\" fill=\"#000000\">True</text>\n",
       "</g>\n",
       "<!-- 2 -->\n",
       "<g id=\"node3\" class=\"node\">\n",
       "<title>2</title>\n",
       "<polygon fill=\"none\" stroke=\"#000000\" points=\"202,-53 110,-53 110,0 202,0 202,-53\"/>\n",
       "<text text-anchor=\"middle\" x=\"156\" y=\"-37.8\" font-family=\"Times,serif\" font-size=\"14.00\" fill=\"#000000\">entropy = 0.0</text>\n",
       "<text text-anchor=\"middle\" x=\"156\" y=\"-22.8\" font-family=\"Times,serif\" font-size=\"14.00\" fill=\"#000000\">samples = 3</text>\n",
       "<text text-anchor=\"middle\" x=\"156\" y=\"-7.8\" font-family=\"Times,serif\" font-size=\"14.00\" fill=\"#000000\">value = [3, 0]</text>\n",
       "</g>\n",
       "<!-- 0&#45;&gt;2 -->\n",
       "<g id=\"edge2\" class=\"edge\">\n",
       "<title>0&#45;&gt;2</title>\n",
       "<path fill=\"none\" stroke=\"#000000\" d=\"M120.3909,-88.9777C125.349,-80.2786 130.6933,-70.9018 135.6958,-62.1247\"/>\n",
       "<polygon fill=\"#000000\" stroke=\"#000000\" points=\"138.8438,-63.6696 140.7548,-53.2485 132.7622,-60.2033 138.8438,-63.6696\"/>\n",
       "<text text-anchor=\"middle\" x=\"147.3596\" y=\"-73.6602\" font-family=\"Times,serif\" font-size=\"14.00\" fill=\"#000000\">False</text>\n",
       "</g>\n",
       "</g>\n",
       "</svg>\n"
      ],
      "text/plain": [
       "<graphviz.files.Source at 0x1a22463400>"
      ]
     },
     "execution_count": 48,
     "metadata": {},
     "output_type": "execute_result"
    }
   ],
   "source": [
    "from graphviz import Source\n",
    "Source(tree.export_graphviz(dt_clf, out_file=None, feature_names=df[['rainy','sunny']].columns))"
   ]
  },
  {
   "cell_type": "code",
   "execution_count": 49,
   "metadata": {},
   "outputs": [
    {
     "data": {
      "text/plain": [
       "array([1., 0.])"
      ]
     },
     "execution_count": 49,
     "metadata": {},
     "output_type": "execute_result"
    }
   ],
   "source": [
    "# we can see the importance of features in our classifier, \n",
    "# and attribute sunny has no influence at all.\n",
    "\n",
    "dt_clf.feature_importances_"
   ]
  },
  {
   "cell_type": "code",
   "execution_count": null,
   "metadata": {},
   "outputs": [],
   "source": []
  }
 ],
 "metadata": {
  "kernelspec": {
   "display_name": "Python 3",
   "language": "python",
   "name": "python3"
  },
  "language_info": {
   "codemirror_mode": {
    "name": "ipython",
    "version": 3
   },
   "file_extension": ".py",
   "mimetype": "text/x-python",
   "name": "python",
   "nbconvert_exporter": "python",
   "pygments_lexer": "ipython3",
   "version": "3.7.1"
  }
 },
 "nbformat": 4,
 "nbformat_minor": 2
}
