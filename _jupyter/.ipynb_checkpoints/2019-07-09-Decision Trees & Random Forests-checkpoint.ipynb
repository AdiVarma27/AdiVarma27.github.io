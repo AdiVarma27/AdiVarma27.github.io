{
 "cells": [
  {
   "cell_type": "markdown",
   "metadata": {},
   "source": [
    "# Decision Trees & Random Forests"
   ]
  },
  {
   "cell_type": "markdown",
   "metadata": {},
   "source": [
    "* In this notebook, we take a look at the intuition behind ID-3 Algorithm, and how it extends to Random Forests. In any Classification, Regression task, I personally use Decision tree algorithm as a first attempt to understand important features in a given dataset. \n",
    "* Before we start coding a decision tree, we need to understand the concept of Entropy, in Information theory. Decision trees are non-parametric (the model makes no assumptions, unlike many other traditional method, and makes most Intuitive sense in visualizing it !)\n",
    "\n",
    "### Entropy\n",
    "* The formal definition of entropy is as follows: H(x) is the expected number of bits needed to encode randomly drawn value of X.\n",
    "\n",
    "$$ H(x) =-\\sum _{i}P_{i}\\log {P_{i}} $$\n",
    "\n",
    "* To put simply, entropy conveys the impurity of a set/ vector. We know for a fair coin, probability of heads = 0.5. For 1000 random trials, we would get highest Pmf values at 0.5 (According to law of large numbers), hence, it has the more impurity (equally likely to be heads or tails).\n",
    "\n",
    "* For a biased coin (say probability of heads = 0.9, the impurity is much lesser, when compared to an unbiased coin), hence, would have lesser entropy."
   ]
  },
  {
   "cell_type": "code",
   "execution_count": 10,
   "metadata": {},
   "outputs": [],
   "source": [
    "import math\n",
    "import numpy as np\n",
    "import pandas as pd\n",
    "import matplotlib.pyplot as plt\n",
    "\n",
    "# function to return Entropy\n",
    "def EntropyCoin(p_heads):\n",
    "    p_tails = 1 - p_heads\n",
    "    return  -(p_heads*math.log2(p_heads) + p_tails*math.log2(p_tails))"
   ]
  },
  {
   "cell_type": "code",
   "execution_count": 11,
   "metadata": {},
   "outputs": [],
   "source": [
    "# Iterating through probability of heads\n",
    "    \n",
    "entropy_val = [EntropyCoin(i) for i in np.arange(0.0001,0.9999,0.01)]"
   ]
  },
  {
   "cell_type": "code",
   "execution_count": 12,
   "metadata": {},
   "outputs": [
    {
     "data": {
      "text/plain": [
       "[<matplotlib.lines.Line2D at 0x1a1d00cfd0>]"
      ]
     },
     "execution_count": 12,
     "metadata": {},
     "output_type": "execute_result"
    },
    {
     "data": {
      "image/png": "[encoded data removed]",
      "text/plain": [
       "<Figure size 432x288 with 1 Axes>"
      ]
     },
     "metadata": {
      "needs_background": "light"
     },
     "output_type": "display_data"
    }
   ],
   "source": [
    "plt.ylabel('Entropy/ Impurity')\n",
    "plt.xlabel('Probabilit of heads')\n",
    "plt.plot(np.arange(0.0001,0.9999,0.01), entropy_val)"
   ]
  },
  {
   "cell_type": "markdown",
   "metadata": {},
   "source": [
    "* Above, we see that Entropy = 1, at p_heads = p_tails = 0.5 (Highest impurity), whereas p_heads = 0 and p_heads = 1, has least impurity.\n",
    "\n",
    "* For example, let us consider the following dataset, we calculate the specific entropy, conditional entropy and Information gain to decide the best-attribute to help classify if the playground is open today."
   ]
  },
  {
   "cell_type": "code",
   "execution_count": 13,
   "metadata": {},
   "outputs": [
    {
     "data": {
      "text/html": [
       "<div>\n",
       "<style scoped>\n",
       "    .dataframe tbody tr th:only-of-type {\n",
       "        vertical-align: middle;\n",
       "    }\n",
       "\n",
       "    .dataframe tbody tr th {\n",
       "        vertical-align: top;\n",
       "    }\n",
       "\n",
       "    .dataframe thead th {\n",
       "        text-align: right;\n",
       "    }\n",
       "</style>\n",
       "<table border=\"1\" class=\"dataframe\">\n",
       "  <thead>\n",
       "    <tr style=\"text-align: right;\">\n",
       "      <th></th>\n",
       "      <th>rainy</th>\n",
       "      <th>sunny</th>\n",
       "      <th>is_open</th>\n",
       "    </tr>\n",
       "  </thead>\n",
       "  <tbody>\n",
       "    <tr>\n",
       "      <th>0</th>\n",
       "      <td>yes</td>\n",
       "      <td>no</td>\n",
       "      <td>0</td>\n",
       "    </tr>\n",
       "    <tr>\n",
       "      <th>1</th>\n",
       "      <td>yes</td>\n",
       "      <td>no</td>\n",
       "      <td>0</td>\n",
       "    </tr>\n",
       "    <tr>\n",
       "      <th>2</th>\n",
       "      <td>yes</td>\n",
       "      <td>yes</td>\n",
       "      <td>0</td>\n",
       "    </tr>\n",
       "    <tr>\n",
       "      <th>3</th>\n",
       "      <td>no</td>\n",
       "      <td>yes</td>\n",
       "      <td>1</td>\n",
       "    </tr>\n",
       "    <tr>\n",
       "      <th>4</th>\n",
       "      <td>no</td>\n",
       "      <td>no</td>\n",
       "      <td>1</td>\n",
       "    </tr>\n",
       "  </tbody>\n",
       "</table>\n",
       "</div>"
      ],
      "text/plain": [
       "  rainy sunny  is_open\n",
       "0   yes    no        0\n",
       "1   yes    no        0\n",
       "2   yes   yes        0\n",
       "3    no   yes        1\n",
       "4    no    no        1"
      ]
     },
     "execution_count": 13,
     "metadata": {},
     "output_type": "execute_result"
    }
   ],
   "source": [
    "# The task is to generate a decision tree to help classify if it is going to rain or not.\n",
    "\n",
    "df = pd.DataFrame()\n",
    "df['rainy'] = ['yes','yes','yes','no','no']\n",
    "df['sunny'] = ['no','no','yes','yes','no']\n",
    "df['is_open'] = [0, 0, 0, 1, 1]\n",
    "df"
   ]
  },
  {
   "cell_type": "markdown",
   "metadata": {},
   "source": [
    "### How do we decide which attribute is more 'useful' to classify our data ?\n",
    "\n",
    "#### Specific Conditional Entropy, Conditional Entropy & Information Gain\n",
    "\n",
    "* Entropy can be conditioned across different categories of an attribute, and specific conditional entropy can be calculated.\n",
    "\n",
    "\n",
    "* Conditional Entropy is the weighted average of specific conditional entropy various categories by the probability of their occurances. \n",
    "\n",
    "\n",
    "* The difference between the Entropy of the base attribute and the conditional entropy is the Information Gain (basically describes if we gain more information by using the next attribute, and we would use an attribute which maximizes Information gain). This concept is sufficient to develop an Industrial level Classifier/ Regressor, along with the ID3-algorithm.\n",
    "\n",
    "\n",
    "* We can use either the rainy or sunny attribute to classify a new data-point, first lets calculate the Class-Entropy. Of the 5 rows, we have the playground open 3 times, and closed 2 times. Hence, class entropy is \n",
    "\n",
    "$$ - [(3/5)*log2(3/5) + (2/5)*log2(2/5)] = 0.97 $$\n",
    "\n",
    "* Hence, we can say the the data-set is impure (almost = 1), meaning we have almost equal number of data-points in either of the classes. Now, let us decide on which attribute to use for classifying our points; we have two attributes at hand, let us start by calculating the Specific Entropy of each attribute."
   ]
  },
  {
   "cell_type": "markdown",
   "metadata": {},
   "source": [
    "<img src=\"decisiontree/1.png\">\n",
    "<img src=\"decisiontree/2.png\">"
   ]
  },
  {
   "cell_type": "markdown",
   "metadata": {},
   "source": [
    "* We have the specific conditional probabilities for each of the attributes, and we can now calculate the Conditional probability of each of the attributes. \n",
    "\n",
    "$$ H(rainy: yes) = 0, H(rainy: no) = 0 $$\n",
    "\n",
    "$$ H(sunny: yes) = 1, H(sunny: no) = 0.91 $$\n",
    "\n",
    "* Conditional Entropy for attribute rainy:\n",
    "\n",
    "$$ H(rainy)  =  - [ P(rainy: yes)*H(rainy: yes) + P(rainy: no)*H(rainy: no)] $$\n",
    "\n",
    "$$ H(rainy)  =  - [(3/5)*(0) + (2/5)*(0)] = 0 $$\n",
    "\n",
    "* Conditional Entropy for attribute sunny:\n",
    "\n",
    "$$ H(sunny)  =  - [ P(sunny: yes)*H(sunny: yes) + P(sunny: no)*H(sunny: no)] $$\n",
    "\n",
    "$$ H(sunny)  =  - [(2/5)*(1) + (3/5)*(0.91)] = 0.946 $$\n",
    "\n",
    "* Now, we can calculate Information Gain for each of the attributes:\n",
    "\n",
    "$$ InfoGain(rainy) = ClassEntropy - H(rainy) = 0.97 - 0.0 = 0.97 $$\n",
    "\n",
    "$$ InfoGain(sunny) = ClassEntropy - H(sunny) = 0.97 - 0.946 = 0.024 $$\n",
    "\n",
    "\n",
    "* Of the two information attributes above, we should use the 'rainy' attribute to split our decision tree first, followed by 'sunny' attribute."
   ]
  },
  {
   "cell_type": "code",
   "execution_count": 14,
   "metadata": {},
   "outputs": [],
   "source": [
    "# same dataset, expressed in binary form\n",
    "df = pd.DataFrame()\n",
    "df['rainy'] = [1,1,1,0,0]\n",
    "df['sunny'] = [0,0,1,1,0]\n",
    "df['is_open'] = [0, 0, 0, 1, 1]\n",
    "\n",
    "# importing decision tree class from sklearn\n",
    "from sklearn.tree import DecisionTreeClassifier\n",
    "from sklearn import tree\n",
    "\n",
    "dt_clf = DecisionTreeClassifier(criterion='entropy')\n",
    "dt_clf = dt_clf.fit(df[['rainy','sunny']], df.is_open)"
   ]
  },
  {
   "cell_type": "code",
   "execution_count": 15,
   "metadata": {},
   "outputs": [
    {
     "data": {
      "text/plain": [
       "DecisionTreeClassifier(class_weight=None, criterion='entropy', max_depth=None,\n",
       "            max_features=None, max_leaf_nodes=None,\n",
       "            min_impurity_decrease=0.0, min_impurity_split=None,\n",
       "            min_samples_leaf=1, min_samples_split=2,\n",
       "            min_weight_fraction_leaf=0.0, presort=False, random_state=None,\n",
       "            splitter='best')"
      ]
     },
     "execution_count": 15,
     "metadata": {},
     "output_type": "execute_result"
    }
   ],
   "source": [
    "dt_clf"
   ]
  },
  {
   "cell_type": "markdown",
   "metadata": {},
   "source": [
    "* Below is the final Decision Tree Classifier which includes set of rules to classify the data. The only condition which matters is wether it is rainy or not. If it is not rainy, the playground if open, else the play-ground is closed. Note that there is no influence of the second attribute (sunny), whatsoever. \n",
    "\n",
    "* Hence, observe the feature importance of the two attributes. "
   ]
  },
  {
   "cell_type": "code",
   "execution_count": 16,
   "metadata": {},
   "outputs": [
    {
     "data": {
      "image/svg+xml": [
       "<?xml version=\"1.0\" encoding=\"UTF-8\" standalone=\"no\"?>\n",
       "<!DOCTYPE svg PUBLIC \"-//W3C//DTD SVG 1.1//EN\"\n",
       " \"http://www.w3.org/Graphics/SVG/1.1/DTD/svg11.dtd\">\n",
       "<!-- Generated by graphviz version 2.40.1 (20161225.0304)\n",
       " -->\n",
       "<!-- Title: Tree Pages: 1 -->\n",
       "<svg width=\"210pt\" height=\"165pt\"\n",
       " viewBox=\"0.00 0.00 210.00 165.00\" xmlns=\"http://www.w3.org/2000/svg\" xmlns:xlink=\"http://www.w3.org/1999/xlink\">\n",
       "<g id=\"graph0\" class=\"graph\" transform=\"scale(1 1) rotate(0) translate(4 161)\">\n",
       "<title>Tree</title>\n",
       "<polygon fill=\"#ffffff\" stroke=\"transparent\" points=\"-4,4 -4,-161 206,-161 206,4 -4,4\"/>\n",
       "<!-- 0 -->\n",
       "<g id=\"node1\" class=\"node\">\n",
       "<title>0</title>\n",
       "<polygon fill=\"none\" stroke=\"#000000\" points=\"154,-157 48,-157 48,-89 154,-89 154,-157\"/>\n",
       "<text text-anchor=\"middle\" x=\"101\" y=\"-141.8\" font-family=\"Times,serif\" font-size=\"14.00\" fill=\"#000000\">rainy &lt;= 0.5</text>\n",
       "<text text-anchor=\"middle\" x=\"101\" y=\"-126.8\" font-family=\"Times,serif\" font-size=\"14.00\" fill=\"#000000\">entropy = 0.971</text>\n",
       "<text text-anchor=\"middle\" x=\"101\" y=\"-111.8\" font-family=\"Times,serif\" font-size=\"14.00\" fill=\"#000000\">samples = 5</text>\n",
       "<text text-anchor=\"middle\" x=\"101\" y=\"-96.8\" font-family=\"Times,serif\" font-size=\"14.00\" fill=\"#000000\">value = [3, 2]</text>\n",
       "</g>\n",
       "<!-- 1 -->\n",
       "<g id=\"node2\" class=\"node\">\n",
       "<title>1</title>\n",
       "<polygon fill=\"none\" stroke=\"#000000\" points=\"92,-53 0,-53 0,0 92,0 92,-53\"/>\n",
       "<text text-anchor=\"middle\" x=\"46\" y=\"-37.8\" font-family=\"Times,serif\" font-size=\"14.00\" fill=\"#000000\">entropy = 0.0</text>\n",
       "<text text-anchor=\"middle\" x=\"46\" y=\"-22.8\" font-family=\"Times,serif\" font-size=\"14.00\" fill=\"#000000\">samples = 2</text>\n",
       "<text text-anchor=\"middle\" x=\"46\" y=\"-7.8\" font-family=\"Times,serif\" font-size=\"14.00\" fill=\"#000000\">value = [0, 2]</text>\n",
       "</g>\n",
       "<!-- 0&#45;&gt;1 -->\n",
       "<g id=\"edge1\" class=\"edge\">\n",
       "<title>0&#45;&gt;1</title>\n",
       "<path fill=\"none\" stroke=\"#000000\" d=\"M81.6091,-88.9777C76.651,-80.2786 71.3067,-70.9018 66.3042,-62.1247\"/>\n",
       "<polygon fill=\"#000000\" stroke=\"#000000\" points=\"69.2378,-60.2033 61.2452,-53.2485 63.1562,-63.6696 69.2378,-60.2033\"/>\n",
       "<text text-anchor=\"middle\" x=\"54.6404\" y=\"-73.6602\" font-family=\"Times,serif\" font-size=\"14.00\" fill=\"#000000\">True</text>\n",
       "</g>\n",
       "<!-- 2 -->\n",
       "<g id=\"node3\" class=\"node\">\n",
       "<title>2</title>\n",
       "<polygon fill=\"none\" stroke=\"#000000\" points=\"202,-53 110,-53 110,0 202,0 202,-53\"/>\n",
       "<text text-anchor=\"middle\" x=\"156\" y=\"-37.8\" font-family=\"Times,serif\" font-size=\"14.00\" fill=\"#000000\">entropy = 0.0</text>\n",
       "<text text-anchor=\"middle\" x=\"156\" y=\"-22.8\" font-family=\"Times,serif\" font-size=\"14.00\" fill=\"#000000\">samples = 3</text>\n",
       "<text text-anchor=\"middle\" x=\"156\" y=\"-7.8\" font-family=\"Times,serif\" font-size=\"14.00\" fill=\"#000000\">value = [3, 0]</text>\n",
       "</g>\n",
       "<!-- 0&#45;&gt;2 -->\n",
       "<g id=\"edge2\" class=\"edge\">\n",
       "<title>0&#45;&gt;2</title>\n",
       "<path fill=\"none\" stroke=\"#000000\" d=\"M120.3909,-88.9777C125.349,-80.2786 130.6933,-70.9018 135.6958,-62.1247\"/>\n",
       "<polygon fill=\"#000000\" stroke=\"#000000\" points=\"138.8438,-63.6696 140.7548,-53.2485 132.7622,-60.2033 138.8438,-63.6696\"/>\n",
       "<text text-anchor=\"middle\" x=\"147.3596\" y=\"-73.6602\" font-family=\"Times,serif\" font-size=\"14.00\" fill=\"#000000\">False</text>\n",
       "</g>\n",
       "</g>\n",
       "</svg>\n"
      ],
      "text/plain": [
       "<graphviz.files.Source at 0x1a1ce90470>"
      ]
     },
     "execution_count": 16,
     "metadata": {},
     "output_type": "execute_result"
    }
   ],
   "source": [
    "from graphviz import Source\n",
    "Source(tree.export_graphviz(dt_clf, out_file=None, feature_names=df[['rainy','sunny']].columns))"
   ]
  },
  {
   "cell_type": "code",
   "execution_count": 17,
   "metadata": {},
   "outputs": [
    {
     "data": {
      "text/plain": [
       "array([1., 0.])"
      ]
     },
     "execution_count": 17,
     "metadata": {},
     "output_type": "execute_result"
    }
   ],
   "source": [
    "# we can see the importance of features in our classifier, \n",
    "# and attribute sunny has no influence at all.\n",
    "\n",
    "dt_clf.feature_importances_"
   ]
  },
  {
   "cell_type": "markdown",
   "metadata": {},
   "source": [
    "* Now, let us explore to classify a larger data-set, and try changing the parameters in our Decision Tree Classifier model. Let us use the famous digits dataset from sklearn library."
   ]
  },
  {
   "cell_type": "code",
   "execution_count": 18,
   "metadata": {},
   "outputs": [],
   "source": [
    "from sklearn.datasets import load_digits\n",
    "digits = load_digits()\n",
    "\n",
    "digits_X = digits['data']\n",
    "digits_y = digits['target']"
   ]
  },
  {
   "cell_type": "code",
   "execution_count": 24,
   "metadata": {},
   "outputs": [
    {
     "data": {
      "text/plain": [
       "((1797, 64), (1797,))"
      ]
     },
     "execution_count": 24,
     "metadata": {},
     "output_type": "execute_result"
    }
   ],
   "source": [
    "# input feature matrix digits_X has 1797 samples and 64 attributes/ columns\n",
    "\n",
    "digits_X.shape, digits_y.shape"
   ]
  },
  {
   "cell_type": "code",
   "execution_count": 32,
   "metadata": {},
   "outputs": [
    {
     "data": {
      "text/plain": [
       "<Figure size 432x288 with 0 Axes>"
      ]
     },
     "metadata": {},
     "output_type": "display_data"
    },
    {
     "data": {
      "image/png": "[encoded data removed]",
      "text/plain": [
       "<Figure size 288x288 with 1 Axes>"
      ]
     },
     "metadata": {
      "needs_background": "light"
     },
     "output_type": "display_data"
    }
   ],
   "source": [
    "# Below is the first image, with 64 features (8 rows and 8 columns), and represents the digit 0\n",
    "\n",
    "plt.gray() \n",
    "plt.matshow(digits.images[0]) \n",
    "plt.show() "
   ]
  },
  {
   "cell_type": "code",
   "execution_count": 36,
   "metadata": {},
   "outputs": [
    {
     "data": {
      "text/html": [
       "<div>\n",
       "<style scoped>\n",
       "    .dataframe tbody tr th:only-of-type {\n",
       "        vertical-align: middle;\n",
       "    }\n",
       "\n",
       "    .dataframe tbody tr th {\n",
       "        vertical-align: top;\n",
       "    }\n",
       "\n",
       "    .dataframe thead th {\n",
       "        text-align: right;\n",
       "    }\n",
       "</style>\n",
       "<table border=\"1\" class=\"dataframe\">\n",
       "  <thead>\n",
       "    <tr style=\"text-align: right;\">\n",
       "      <th></th>\n",
       "      <th>0</th>\n",
       "      <th>1</th>\n",
       "      <th>2</th>\n",
       "      <th>3</th>\n",
       "      <th>4</th>\n",
       "      <th>5</th>\n",
       "      <th>6</th>\n",
       "      <th>7</th>\n",
       "      <th>8</th>\n",
       "      <th>9</th>\n",
       "      <th>...</th>\n",
       "      <th>54</th>\n",
       "      <th>55</th>\n",
       "      <th>56</th>\n",
       "      <th>57</th>\n",
       "      <th>58</th>\n",
       "      <th>59</th>\n",
       "      <th>60</th>\n",
       "      <th>61</th>\n",
       "      <th>62</th>\n",
       "      <th>63</th>\n",
       "    </tr>\n",
       "  </thead>\n",
       "  <tbody>\n",
       "    <tr>\n",
       "      <th>0</th>\n",
       "      <td>0.0</td>\n",
       "      <td>0.0</td>\n",
       "      <td>5.0</td>\n",
       "      <td>13.0</td>\n",
       "      <td>9.0</td>\n",
       "      <td>1.0</td>\n",
       "      <td>0.0</td>\n",
       "      <td>0.0</td>\n",
       "      <td>0.0</td>\n",
       "      <td>0.0</td>\n",
       "      <td>...</td>\n",
       "      <td>0.0</td>\n",
       "      <td>0.0</td>\n",
       "      <td>0.0</td>\n",
       "      <td>0.0</td>\n",
       "      <td>6.0</td>\n",
       "      <td>13.0</td>\n",
       "      <td>10.0</td>\n",
       "      <td>0.0</td>\n",
       "      <td>0.0</td>\n",
       "      <td>0.0</td>\n",
       "    </tr>\n",
       "    <tr>\n",
       "      <th>1</th>\n",
       "      <td>0.0</td>\n",
       "      <td>0.0</td>\n",
       "      <td>0.0</td>\n",
       "      <td>12.0</td>\n",
       "      <td>13.0</td>\n",
       "      <td>5.0</td>\n",
       "      <td>0.0</td>\n",
       "      <td>0.0</td>\n",
       "      <td>0.0</td>\n",
       "      <td>0.0</td>\n",
       "      <td>...</td>\n",
       "      <td>0.0</td>\n",
       "      <td>0.0</td>\n",
       "      <td>0.0</td>\n",
       "      <td>0.0</td>\n",
       "      <td>0.0</td>\n",
       "      <td>11.0</td>\n",
       "      <td>16.0</td>\n",
       "      <td>10.0</td>\n",
       "      <td>0.0</td>\n",
       "      <td>0.0</td>\n",
       "    </tr>\n",
       "    <tr>\n",
       "      <th>2</th>\n",
       "      <td>0.0</td>\n",
       "      <td>0.0</td>\n",
       "      <td>0.0</td>\n",
       "      <td>4.0</td>\n",
       "      <td>15.0</td>\n",
       "      <td>12.0</td>\n",
       "      <td>0.0</td>\n",
       "      <td>0.0</td>\n",
       "      <td>0.0</td>\n",
       "      <td>0.0</td>\n",
       "      <td>...</td>\n",
       "      <td>5.0</td>\n",
       "      <td>0.0</td>\n",
       "      <td>0.0</td>\n",
       "      <td>0.0</td>\n",
       "      <td>0.0</td>\n",
       "      <td>3.0</td>\n",
       "      <td>11.0</td>\n",
       "      <td>16.0</td>\n",
       "      <td>9.0</td>\n",
       "      <td>0.0</td>\n",
       "    </tr>\n",
       "    <tr>\n",
       "      <th>3</th>\n",
       "      <td>0.0</td>\n",
       "      <td>0.0</td>\n",
       "      <td>7.0</td>\n",
       "      <td>15.0</td>\n",
       "      <td>13.0</td>\n",
       "      <td>1.0</td>\n",
       "      <td>0.0</td>\n",
       "      <td>0.0</td>\n",
       "      <td>0.0</td>\n",
       "      <td>8.0</td>\n",
       "      <td>...</td>\n",
       "      <td>9.0</td>\n",
       "      <td>0.0</td>\n",
       "      <td>0.0</td>\n",
       "      <td>0.0</td>\n",
       "      <td>7.0</td>\n",
       "      <td>13.0</td>\n",
       "      <td>13.0</td>\n",
       "      <td>9.0</td>\n",
       "      <td>0.0</td>\n",
       "      <td>0.0</td>\n",
       "    </tr>\n",
       "    <tr>\n",
       "      <th>4</th>\n",
       "      <td>0.0</td>\n",
       "      <td>0.0</td>\n",
       "      <td>0.0</td>\n",
       "      <td>1.0</td>\n",
       "      <td>11.0</td>\n",
       "      <td>0.0</td>\n",
       "      <td>0.0</td>\n",
       "      <td>0.0</td>\n",
       "      <td>0.0</td>\n",
       "      <td>0.0</td>\n",
       "      <td>...</td>\n",
       "      <td>0.0</td>\n",
       "      <td>0.0</td>\n",
       "      <td>0.0</td>\n",
       "      <td>0.0</td>\n",
       "      <td>0.0</td>\n",
       "      <td>2.0</td>\n",
       "      <td>16.0</td>\n",
       "      <td>4.0</td>\n",
       "      <td>0.0</td>\n",
       "      <td>0.0</td>\n",
       "    </tr>\n",
       "  </tbody>\n",
       "</table>\n",
       "<p>5 rows × 64 columns</p>\n",
       "</div>"
      ],
      "text/plain": [
       "    0    1    2     3     4     5    6    7    8    9  ...    54   55   56  \\\n",
       "0  0.0  0.0  5.0  13.0   9.0   1.0  0.0  0.0  0.0  0.0 ...   0.0  0.0  0.0   \n",
       "1  0.0  0.0  0.0  12.0  13.0   5.0  0.0  0.0  0.0  0.0 ...   0.0  0.0  0.0   \n",
       "2  0.0  0.0  0.0   4.0  15.0  12.0  0.0  0.0  0.0  0.0 ...   5.0  0.0  0.0   \n",
       "3  0.0  0.0  7.0  15.0  13.0   1.0  0.0  0.0  0.0  8.0 ...   9.0  0.0  0.0   \n",
       "4  0.0  0.0  0.0   1.0  11.0   0.0  0.0  0.0  0.0  0.0 ...   0.0  0.0  0.0   \n",
       "\n",
       "    57   58    59    60    61   62   63  \n",
       "0  0.0  6.0  13.0  10.0   0.0  0.0  0.0  \n",
       "1  0.0  0.0  11.0  16.0  10.0  0.0  0.0  \n",
       "2  0.0  0.0   3.0  11.0  16.0  9.0  0.0  \n",
       "3  0.0  7.0  13.0  13.0   9.0  0.0  0.0  \n",
       "4  0.0  0.0   2.0  16.0   4.0  0.0  0.0  \n",
       "\n",
       "[5 rows x 64 columns]"
      ]
     },
     "execution_count": 36,
     "metadata": {},
     "output_type": "execute_result"
    }
   ],
   "source": [
    "# converting from array to DataFrame\n",
    "df = pd.DataFrame(digits_X)\n",
    "df.head()"
   ]
  },
  {
   "cell_type": "code",
   "execution_count": 60,
   "metadata": {},
   "outputs": [],
   "source": [
    "# Now, we split the dataset into train and test split\n",
    "\n",
    "from sklearn.model_selection import train_test_split\n",
    "X_train, X_test, y_train, y_test = train_test_split(df, digits_y, test_size=0.33, random_state=42)"
   ]
  },
  {
   "cell_type": "code",
   "execution_count": 61,
   "metadata": {},
   "outputs": [],
   "source": [
    "# classifier\n",
    "dt_clf_digits = DecisionTreeClassifier(criterion='entropy')\n",
    "\n",
    "# training dataset\n",
    "dt_clf_digits.fit(X_train, y_train)\n",
    "\n",
    "# prediction step\n",
    "y_pred = dt_clf_digits.predict(X_test)"
   ]
  },
  {
   "cell_type": "code",
   "execution_count": 62,
   "metadata": {},
   "outputs": [
    {
     "name": "stdout",
     "output_type": "stream",
     "text": [
      "0.8569023569023569\n"
     ]
    }
   ],
   "source": [
    "# We obtain accuracy of 86 %\n",
    "from sklearn.metrics import accuracy_score\n",
    "print(accuracy_score(y_test, y_pred))"
   ]
  },
  {
   "cell_type": "code",
   "execution_count": 64,
   "metadata": {},
   "outputs": [
    {
     "data": {
      "text/plain": [
       "array([[51,  0,  1,  1,  1,  0,  0,  0,  1,  0],\n",
       "       [ 0, 51,  1,  0,  0,  0,  0,  0,  1,  2],\n",
       "       [ 0,  1, 39,  1,  1,  1,  0,  3,  5,  1],\n",
       "       [ 0,  1,  2, 48,  1,  4,  0,  0,  0,  0],\n",
       "       [ 3,  2,  0,  0, 51,  0,  1,  5,  1,  1],\n",
       "       [ 0,  3,  0,  3,  2, 63,  1,  1,  0,  0],\n",
       "       [ 0,  1,  0,  0,  1,  0, 54,  0,  0,  1],\n",
       "       [ 0,  1,  1,  2,  2,  1,  0, 52,  0,  3],\n",
       "       [ 0,  0,  2,  2,  1,  0,  0,  4, 42,  1],\n",
       "       [ 3,  0,  0,  1,  1,  1,  0,  2,  2, 58]])"
      ]
     },
     "execution_count": 64,
     "metadata": {},
     "output_type": "execute_result"
    }
   ],
   "source": [
    "# Confusion matrix: We use confusion matrix to understand the errors for each of the digits individually\n",
    "\n",
    "from sklearn.metrics import confusion_matrix\n",
    "confusion_matrix(y_test, y_pred)"
   ]
  },
  {
   "cell_type": "markdown",
   "metadata": {},
   "source": [
    "* We obtain around 86 % accuracy with default parameters; we can tweak the 'max_depth' parameter, which controls the size of the tree, and can use it to check over-fitting; as Decision trees are prone to overfitting, and try to memorize the data."
   ]
  },
  {
   "cell_type": "code",
   "execution_count": 88,
   "metadata": {},
   "outputs": [],
   "source": [
    "# Function to calculate train, test accuracy for differetn max_depth values\n",
    "def DecisionTreeClf():\n",
    "    \n",
    "    X_train, X_test, y_train, y_test = train_test_split(df, digits_y, test_size=0.33, random_state=42)\n",
    "    train_acc = []\n",
    "    test_acc = []\n",
    "    \n",
    "    for i in range(1,16,2):\n",
    "        # classifier\n",
    "        dt_clf_digits = DecisionTreeClassifier(criterion='entropy', max_depth=i)\n",
    "\n",
    "        # training dataset\n",
    "        dt_clf_digits.fit(X_train, y_train)\n",
    "\n",
    "        # prediction step\n",
    "        y_pred = dt_clf_digits.predict(X_test)\n",
    "        \n",
    "        #accuracy\n",
    "        train_acc.append(accuracy_score(y_train, dt_clf_digits.predict(X_train)))\n",
    "        test_acc.append(accuracy_score(y_test, y_pred))\n",
    "        \n",
    "    return train_acc, test_acc"
   ]
  },
  {
   "cell_type": "code",
   "execution_count": 95,
   "metadata": {},
   "outputs": [
    {
     "data": {
      "image/png": "[encoded data removed]",
      "text/plain": [
       "<Figure size 1008x432 with 1 Axes>"
      ]
     },
     "metadata": {
      "needs_background": "light"
     },
     "output_type": "display_data"
    }
   ],
   "source": [
    "# function call\n",
    "train_acc, test_acc = DecisionTreeClf()\n",
    "\n",
    "plt.figure(figsize=(14,6))\n",
    "plt.plot(np.arange(1,16,2),train_acc,c='g',label='Training Accuracy')\n",
    "plt.plot(np.arange(1,16,2),test_acc,c='r',label='Testing Accuracy')\n",
    "plt.xlabel('Max Depth')\n",
    "plt.ylabel('Accuracy')\n",
    "plt.legend()\n",
    "plt.grid()"
   ]
  },
  {
   "cell_type": "markdown",
   "metadata": {},
   "source": [
    "* We observe that at max_depth = 9, the training accuracy reaches 100 %, Hence, max_depth < 9 is our best bet to avoid over-fitting."
   ]
  },
  {
   "cell_type": "markdown",
   "metadata": {},
   "source": [
    "### Where does Random Forest come from ?\n",
    "* We know that a Decision tree is prone/ tends to overfit to the data, causing high variance in the model. Hence, we tend to use some Bagging algorithm, which takes average votes to stabilize the model.\n",
    "\n",
    "\n",
    "* Bagging stands for Bootstrap Aggregation. According to sklearn documentation, the formal definition is as follows: A random forest is a meta estimator that fits a number of decision tree classifiers on various sub-samples of the dataset and uses averaging to improve the predictive accuracy and control over-fitting. (Source: https://scikit-learn.org/stable/modules/generated/sklearn.ensemble.RandomForestClassifier.html)\n",
    "\n",
    "\n",
    "* When using a Random Forest, we have a lot of hyperparameters to decide on. The number of Decision Tree classifiers to use in our Random Forest, the number of features to use to decide the best split, the number of samples to choose, and if we need to use replacement method to do so."
   ]
  },
  {
   "cell_type": "code",
   "execution_count": 100,
   "metadata": {},
   "outputs": [],
   "source": [
    "from sklearn.ensemble import RandomForestClassifier\n",
    "\n",
    "def RandomForestClf():\n",
    "\n",
    "    X_train, X_test, y_train, y_test = train_test_split(df, digits_y, test_size=0.33, random_state=42)\n",
    "    train_acc = []\n",
    "    test_acc = []\n",
    "    \n",
    "    for i in range(1,100,2):\n",
    "        # classifier\n",
    "        dt_clf_digits = RandomForestClassifier(criterion='entropy', n_estimators=i)\n",
    "\n",
    "        # training dataset\n",
    "        dt_clf_digits.fit(X_train, y_train)\n",
    "\n",
    "        # prediction step\n",
    "        y_pred = dt_clf_digits.predict(X_test)\n",
    "        \n",
    "        #accuracy\n",
    "        train_acc.append(accuracy_score(y_train, dt_clf_digits.predict(X_train)))\n",
    "        test_acc.append(accuracy_score(y_test, y_pred))\n",
    "        \n",
    "    return train_acc, test_acc"
   ]
  },
  {
   "cell_type": "code",
   "execution_count": 101,
   "metadata": {},
   "outputs": [
    {
     "data": {
      "image/png": "[encoded data removed]",
      "text/plain": [
       "<Figure size 1008x432 with 1 Axes>"
      ]
     },
     "metadata": {
      "needs_background": "light"
     },
     "output_type": "display_data"
    }
   ],
   "source": [
    "# function call\n",
    "train_acc, test_acc = RandomForestClf()\n",
    "\n",
    "plt.figure(figsize=(14,6))\n",
    "plt.plot(np.arange(1,100,2),train_acc,c='g',label='Training Accuracy')\n",
    "plt.plot(np.arange(1,100,2),test_acc,c='r',label='Testing Accuracy')\n",
    "plt.xlabel('# of Decision Trees')\n",
    "plt.ylabel('Accuracy')\n",
    "plt.legend()\n",
    "plt.grid()"
   ]
  },
  {
   "cell_type": "markdown",
   "metadata": {},
   "source": [
    "* We observe that the accuracy obtained by using Random Forest Classifier is consistently over 95 %, when compared to best accuracy of 85 % from Decision Tree classifier. The Random Forest classifier is much complex and computationally expensive when compared to a single Decision Tree."
   ]
  }
 ],
 "metadata": {
  "kernelspec": {
   "display_name": "Python 3",
   "language": "python",
   "name": "python3"
  },
  "language_info": {
   "codemirror_mode": {
    "name": "ipython",
    "version": 3
   },
   "file_extension": ".py",
   "mimetype": "text/x-python",
   "name": "python",
   "nbconvert_exporter": "python",
   "pygments_lexer": "ipython3",
   "version": "3.7.1"
  }
 },
 "nbformat": 4,
 "nbformat_minor": 2
}
