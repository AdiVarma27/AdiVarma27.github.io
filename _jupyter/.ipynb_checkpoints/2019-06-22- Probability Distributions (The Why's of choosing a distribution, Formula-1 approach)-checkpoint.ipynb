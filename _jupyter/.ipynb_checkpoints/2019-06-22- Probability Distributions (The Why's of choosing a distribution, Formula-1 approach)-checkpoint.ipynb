{
 "cells": [
  {
   "cell_type": "markdown",
   "metadata": {},
   "source": [
    "## Probability Distributions (The Why's of choosing a distribution, Formula-1 approach)"
   ]
  },
  {
   "cell_type": "markdown",
   "metadata": {},
   "source": [
    "#### In this post/ notebook, we take a look at how we can model real life problems with the use of basic probability distributions. This notebook is not a detailed explanation of 'how' distributions are dervied; rather 'why' we use different distributions.\n",
    "\n",
    "#### The Wikipedia definition of a probability distribution is as follows: \n",
    "#### <em> \" In probability theory and statistics, a probability distribution is a mathematical function that provides the probabilities of occurrence of different possible outcomes in an experiment. In more technical terms, the probability distribution is a description of a random phenomenon in terms of the probabilities of events. </em> \"\n",
    "\n",
    "* The basis of any sort of distribution starts with counting; number of favourible outcome events, along with permutation or combination is enough to model almost all real world problems.\n",
    "\n",
    "## F-1 approach\n",
    "\n",
    "* Let us start with an extremely simple example, and work our way thorugh different distributions. In the Formula 1, 2019 season, Ferraris driver, Sebastian Vettel (Number 16), has not won a single race yet. As a Ferrari fan, this is extremely frustrating and dissapointing to see the 4-time world champion struggle to finish on podium (finishing in top 3 of a race).\n",
    "\n",
    "* During the Canadian Grand Prix, he almost won the race (finished first, second in time), but was penalized with 5 seconds for *blocking* the current world champion- Lewis Hamilton on track.\n",
    "\n",
    "* Vettel finished the race first, but was awarded second place after the time penalty. Of the 7 races till date in the 2019 championship, Vettel finished in 1st place just once (but never Won !) Chek this out ! (https://wtf1.com/post/a-bullshit-penalty-for-vettel-handed-hamilton-the-canadian-gp-victory/).\n",
    "\n",
    "* My assumption (not according to any statistic), is that Sebastian will win once in every 7 races this season. Let us use the variable 'p', to describe probability of favourable scenario to occur. Hence, p = 1/7 in this case. There are 14 races to-go this season."
   ]
  },
  {
   "cell_type": "markdown",
   "metadata": {},
   "source": [
    "### Question 1: What are the chances that Sebastian will finish first in 'X' races this Season ?"
   ]
  },
  {
   "cell_type": "markdown",
   "metadata": {},
   "source": [
    "* Lets start with the chances that Sebastian will win no race (not finish 1st in any of the remaining races). Remember, p = 1/7, q = 6/7, n = 14 (q - probability of faliure, n-number of races remaining in this season).\n",
    "* For him to lose in all the races, the order should be as follows: <hr>L-L-L-L-L-L-L-L-L-L-L-L-L-L <hr> (14 losses in a row). The probability of this case occuring is (6/7) raised to the power 14. This can also be expressed as (1 - (1/7)) raised to the power 14."
   ]
  },
  {
   "cell_type": "code",
   "execution_count": 1,
   "metadata": {},
   "outputs": [
    {
     "data": {
      "text/plain": [
       "0.11554334736330474"
      ]
     },
     "execution_count": 1,
     "metadata": {},
     "output_type": "execute_result"
    }
   ],
   "source": [
    "(6/7)**14"
   ]
  },
  {
   "cell_type": "code",
   "execution_count": 2,
   "metadata": {},
   "outputs": [
    {
     "data": {
      "text/plain": [
       "0.11554334736330495"
      ]
     },
     "execution_count": 2,
     "metadata": {},
     "output_type": "execute_result"
    }
   ],
   "source": [
    "(1-(1/7))**14"
   ]
  },
  {
   "cell_type": "markdown",
   "metadata": {},
   "source": [
    "* Well, we know for sure that is less likely to happen, let us see the chance of him winning 7 of the 14 remaining races (Little too optimistic given how he's been performing). One combination could be him winning the next 7 races and losing 7, which would result in: <hr> W-W-W-W-W-W-W-L-L-L-L-L-L-L\n",
    "\n",
    "* Another could be him winning and losing alternative races, which is as follows. We observe in this case, that p, q, n, remain the same, just the combinations keep varying. <hr>  W-L-W-L-W-L-W-L-W-L-W-L-W-L \n",
    "\n",
    "* This can be solved by <strong> 14 <em>C</em> 7 </strong> (Combinations)* (1/7) <sup>7</sup> * (6/7) <sup>7</sup>"
   ]
  },
  {
   "cell_type": "code",
   "execution_count": 3,
   "metadata": {},
   "outputs": [
    {
     "data": {
      "text/plain": [
       "0.0014165550988471"
      ]
     },
     "execution_count": 3,
     "metadata": {},
     "output_type": "execute_result"
    }
   ],
   "source": [
    "3432*((1/7)**7)*((6/7)**7)"
   ]
  },
  {
   "cell_type": "markdown",
   "metadata": {},
   "source": [
    "#### Well, the above seems pretty unlikely to happen (Less than 0.14 % chance that Sebastian will win half the races). \n",
    "\n",
    "#### In this example, we have an event (of Sebastian winning or losing a race), and n=14 (14 races in total). Clearly, the values are discrete, and all the trials have the same chance of favourible/ unfavourible outcome. This problem is captured perfectly by: <hr>\n",
    "# Binomial Distribution \n",
    "* To find the Probability Mass Function of the distribution (not PDF), we use the following functions to get nCr. Now, we iterate through the number of the values the random variable can take.\n",
    "\n",
    "* We also know that p = 1/7, q = 6/7, n = 14.\n",
    "\n",
    "#### Hence, if we want to obtain the probability of k-sucessful trials of n-total trials, we use Binomial Distribution; and use the follwing to compute  Pmf <hr>\n",
    "$$Pmf: {\\binom {n}{k}}p^{k}(1-p)^{n-k}$$"
   ]
  },
  {
   "cell_type": "code",
   "execution_count": 22,
   "metadata": {},
   "outputs": [],
   "source": [
    "# SOURCE: https://stackoverflow.com/questions/4941753/is-there-a-math-ncr-function-in-python\n",
    "# Function to obtain nCr.\n",
    "import math\n",
    "import numpy as np\n",
    "import matplotlib.pyplot as plt\n",
    "import seaborn as sns\n",
    "import operator as op\n",
    "from functools import reduce\n",
    "\n",
    "def nCr(n, r):\n",
    "    r = min(r, n-r)\n",
    "    numer = reduce(op.mul, range(n, n-r, -1), 1)\n",
    "    denom = reduce(op.mul, range(1, r+1), 1)\n",
    "    return numer / denom\n",
    "\n",
    "def pltBinomialPmf(p, n):\n",
    "    q = 1-p\n",
    "    # new list for calculating pmf at different number of races.\n",
    "    pmf = []\n",
    "\n",
    "    # iterate over each race \n",
    "    for i in range(0,n):\n",
    "        pmf.append((nCr(n, i)*(p**i)*(q**(n-i))))\n",
    "    \n",
    "    plt.title(\"Probability Mass Function\")\n",
    "    plt.xlabel(\"Number of Races\")\n",
    "    plt.plot(np.arange(0,n), pmf)"
   ]
  },
  {
   "cell_type": "code",
   "execution_count": 23,
   "metadata": {},
   "outputs": [
    {
     "data": {
      "image/png": "[encoded data removed]",
      "text/plain": [
       "<Figure size 432x288 with 1 Axes>"
      ]
     },
     "metadata": {
      "needs_background": "light"
     },
     "output_type": "display_data"
    }
   ],
   "source": [
    "pltBinomialPmf(1/7,14)"
   ]
  },
  {
   "cell_type": "markdown",
   "metadata": {},
   "source": [
    "### What we know till now: \n",
    "\n",
    "* Just by number of individual trials (number of races in this case), and the favourible probability, we are able to estimate the probability of successfull/ unsuccessful events occuring.\n",
    "\n",
    "* Now, let us assume we have a new promising driver in Formula-1 fo next year, who won half the number of races in his Formula-2 career (will be a debutant in F1 next year, F2 this year). Let us assume he can win one race of every three races; the season is 21 races long. We have only two parameters to tweak.\n",
    "\n",
    "* We observe that the new rising star will most likely win 7 races (approximately). Also observe how this curve starts behaving like a Normal Distribution as p-> 0.5."
   ]
  },
  {
   "cell_type": "code",
   "execution_count": 40,
   "metadata": {},
   "outputs": [
    {
     "data": {
      "image/png": "[encoded data removed]",
      "text/plain": [
       "<Figure size 432x288 with 1 Axes>"
      ]
     },
     "metadata": {
      "needs_background": "light"
     },
     "output_type": "display_data"
    }
   ],
   "source": [
    "pltBinomialPmf(1/3,21)"
   ]
  },
  {
   "cell_type": "markdown",
   "metadata": {},
   "source": [
    "#### We could compute the above values easily due to lesser number of trials (n). We can use the Poisson Distribution to account for discrete occurances, in a continous domain.\n",
    "\n",
    "<hr>\n",
    "\n",
    "#### Previous numbers indicate that during every race weekend, there are 2 minor crashes and 1 major car crash which occurs at the venue (Including all practice laps, qualification laps, and the race itself). \n",
    "\n",
    "## Question 2: What is the probability of 'X' crashes on any given day of the race weekend ?"
   ]
  },
  {
   "cell_type": "markdown",
   "metadata": {},
   "source": [
    "* We know that on average, there are 3 racing accidents/ incidents every race weekend. Let us set this average to λ. Hence, in our case, λ = 3 per race weekend.\n",
    "\n",
    "* The French Grand Prix is coming up next week, and the organizers want to improve driver safety + accident response times. However, they still need to know the chances of accidents; to best prepare themselves for the race weekend.\n",
    "\n",
    "* In both Question 1 and Question 2, we have the chance of success (Sebastian winning races, accidents occuring), both are <em> discrete </em> probability distributions, but have different domains (Question 1: Discrete domain, Question 2: Continuous domain). Hence, we use Poisson Distribution to model our problem.\n",
    "\n",
    "##  Poisson Distribution"
   ]
  },
  {
   "cell_type": "markdown",
   "metadata": {},
   "source": [
    "#### The Pmf (Probability mass function) of Poisson distribution, is probability function, with 'k' number of events; with 'λ' - average number of events occuring within a continous time period.\n",
    "<hr>\n",
    "$$ P(X=k) =  { (λ^{k} e^-λ) / k!}$$ "
   ]
  },
  {
   "cell_type": "markdown",
   "metadata": {},
   "source": [
    "#### The Question asks for the probability of crashes per day, hence the rate needs to be converted from the unit 'weekend' to 'day'. The 'race weekend' consists of 4 full days. Hence, λ = 3/4 (number of crashes per day of the race weekend).  "
   ]
  },
  {
   "cell_type": "code",
   "execution_count": 25,
   "metadata": {},
   "outputs": [],
   "source": [
    "def factorial(n):\n",
    "    if n == 0:\n",
    "        return 1\n",
    "    else:\n",
    "        return n * factorial(n-1)\n",
    "\n",
    "def PoissonPmf(k, lambda_value):\n",
    "    return float(math.exp(-lambda_value)*(lambda_value**k))/factorial(k)\n",
    "\n",
    "def pltPoissonPmf(n, lambda_value):\n",
    "    pmf = []\n",
    "    for i in range(0,n):\n",
    "#         print(PoissonPmf(i, float(lambda_value)))\n",
    "        pmf.append(PoissonPmf(i, float(lambda_value)))\n",
    "    \n",
    "    plt.title(\"Probability Mass Function\")\n",
    "    plt.xlabel(\"Number of Racing Incidents\")\n",
    "    plt.plot(np.arange(0,n), pmf)"
   ]
  },
  {
   "cell_type": "code",
   "execution_count": 26,
   "metadata": {},
   "outputs": [
    {
     "data": {
      "text/plain": [
       "0.20138700563733816"
      ]
     },
     "execution_count": 26,
     "metadata": {},
     "output_type": "execute_result"
    }
   ],
   "source": [
    "PoissonPmf(2,1.1)"
   ]
  },
  {
   "cell_type": "code",
   "execution_count": 27,
   "metadata": {},
   "outputs": [
    {
     "data": {
      "image/png": "[encoded data removed]",
      "text/plain": [
       "<Figure size 432x288 with 1 Axes>"
      ]
     },
     "metadata": {
      "needs_background": "light"
     },
     "output_type": "display_data"
    }
   ],
   "source": [
    "lambda_value = 0.75\n",
    "\n",
    "pltPoissonPmf(10, lambda_value)"
   ]
  },
  {
   "cell_type": "markdown",
   "metadata": {},
   "source": [
    "* With the above data, the orgnizers at the French Grand Prix can take decisions about staffing and safety personnel requirements during each race day.\n",
    "\n",
    "*Now, let us assume λ = 3 (3 crashes per day, for all days of the race weekend)."
   ]
  },
  {
   "cell_type": "code",
   "execution_count": 41,
   "metadata": {},
   "outputs": [
    {
     "data": {
      "image/png": "[encoded data removed]",
      "text/plain": [
       "<Figure size 432x288 with 1 Axes>"
      ]
     },
     "metadata": {
      "needs_background": "light"
     },
     "output_type": "display_data"
    }
   ],
   "source": [
    "lambda_value = 3\n",
    "\n",
    "pltPoissonPmf(10, lambda_value)"
   ]
  },
  {
   "cell_type": "markdown",
   "metadata": {},
   "source": [
    "### How do both questions/ two distributions relate to each other ?  (Similarities, Differences) "
   ]
  },
  {
   "cell_type": "code",
   "execution_count": 29,
   "metadata": {},
   "outputs": [
    {
     "data": {
      "text/html": [
       "<div>\n",
       "<style scoped>\n",
       "    .dataframe tbody tr th:only-of-type {\n",
       "        vertical-align: middle;\n",
       "    }\n",
       "\n",
       "    .dataframe tbody tr th {\n",
       "        vertical-align: top;\n",
       "    }\n",
       "\n",
       "    .dataframe thead th {\n",
       "        text-align: right;\n",
       "    }\n",
       "</style>\n",
       "<table border=\"1\" class=\"dataframe\">\n",
       "  <thead>\n",
       "    <tr style=\"text-align: right;\">\n",
       "      <th></th>\n",
       "      <th>Distribution Name</th>\n",
       "      <th>Type</th>\n",
       "      <th>Domain</th>\n",
       "      <th>Parameters</th>\n",
       "      <th>Mean</th>\n",
       "      <th>Variance</th>\n",
       "    </tr>\n",
       "  </thead>\n",
       "  <tbody>\n",
       "    <tr>\n",
       "      <th>0</th>\n",
       "      <td>Binomial</td>\n",
       "      <td>Discrete</td>\n",
       "      <td>Discrete</td>\n",
       "      <td>n, p: [0,1],(# of events),(% success),</td>\n",
       "      <td>np</td>\n",
       "      <td>np (1 - p)</td>\n",
       "    </tr>\n",
       "    <tr>\n",
       "      <th>1</th>\n",
       "      <td>Poisson</td>\n",
       "      <td>Discrete</td>\n",
       "      <td>Continuous</td>\n",
       "      <td>λ &gt; 0 (Event Rate)</td>\n",
       "      <td>λ</td>\n",
       "      <td>λ</td>\n",
       "    </tr>\n",
       "  </tbody>\n",
       "</table>\n",
       "</div>"
      ],
      "text/plain": [
       "  Distribution Name      Type      Domain  \\\n",
       "0          Binomial  Discrete    Discrete   \n",
       "1           Poisson  Discrete  Continuous   \n",
       "\n",
       "                               Parameters Mean    Variance  \n",
       "0  n, p: [0,1],(# of events),(% success),   np  np (1 - p)  \n",
       "1                      λ > 0 (Event Rate)    λ           λ  "
      ]
     },
     "execution_count": 29,
     "metadata": {},
     "output_type": "execute_result"
    }
   ],
   "source": [
    "import pandas as pd\n",
    "\n",
    "df_distribution_details = pd.DataFrame()\n",
    "df_distribution_details['Distribution Name'] = ['Binomial', 'Poisson']\n",
    "df_distribution_details['Type'] = ['Discrete', 'Discrete']\n",
    "df_distribution_details['Domain'] = ['Discrete', 'Continuous']\n",
    "df_distribution_details['Parameters'] = ['n, p: [0,1],(# of events),(% success),', 'λ > 0 (Event Rate)']\n",
    "df_distribution_details['Mean'] = ['np','λ']\n",
    "df_distribution_details['Variance'] = ['np (1 - p)','λ']\n",
    "\n",
    "\n",
    "df_distribution_details"
   ]
  },
  {
   "cell_type": "markdown",
   "metadata": {},
   "source": [
    "##### SOURCE: http://www.oxfordmathcenter.com/drupal7/node/297\n",
    "\n",
    "* In both distributions, the events occuring are n-individual Bernaulli trials, hence, are each trial has no effect on the next trial.\n",
    "\n",
    "* As the number of samples 'n' in Binomial distribution increase, and the success probability 'p' decreases, we do not need two parameters to model (n, p); λ (Rate parameter) is enough to generate a reliable model. <hr>\n",
    "\n",
    "## Geometric Distribution "
   ]
  },
  {
   "cell_type": "markdown",
   "metadata": {},
   "source": [
    "* Fans get to meet and interact with Formula 1 drivers during race weekends in the driver meetings. The chances of not getting a picture with a driver is 7 out of 8 (Getting autographs is easy; getting pictures is hard). Hence, the success probability (p) = 1/8.\n",
    "\n",
    "### Question 3: How many driver meetings should I attend before I can get a picture with 1 driver ? <br>\n",
    "\n",
    "* Lets first try to figure out the chance of getting a picture on my very first attempt. We know, p = 1/8. As the number of trials is just 1, the chance of getting a picture on first try is 1/8.\n",
    "\n",
    "* Lets now see the probability of getting a picture on 2nd trial. Remember, for this case to happen, I should not be able to get a picture with the first driver.<hr> 1st attempt: No picture, 2nd attemp: Successful "
   ]
  },
  {
   "cell_type": "code",
   "execution_count": 1,
   "metadata": {},
   "outputs": [
    {
     "data": {
      "text/plain": [
       "0.109375"
      ]
     },
     "execution_count": 1,
     "metadata": {},
     "output_type": "execute_result"
    }
   ],
   "source": [
    "# The chance for this case is (7/8)*(1/8)\n",
    "(7/8)*(1/8)"
   ]
  },
  {
   "cell_type": "markdown",
   "metadata": {},
   "source": [
    "* Now, lets see the probability of getting a picture on the third attempt; first two attempts were faliure."
   ]
  },
  {
   "cell_type": "code",
   "execution_count": 2,
   "metadata": {},
   "outputs": [
    {
     "data": {
      "text/plain": [
       "0.095703125"
      ]
     },
     "execution_count": 2,
     "metadata": {},
     "output_type": "execute_result"
    }
   ],
   "source": [
    "# The chance for this case is (7/8)*(7/8)*(1/8)\n",
    "(7/8)*(7/8)*(1/8)"
   ]
  },
  {
   "cell_type": "markdown",
   "metadata": {},
   "source": [
    "#### Now, lets consider other variations of the same question. \n",
    "### Question 3.b: What are the chances I will get a picture in the first three attempts ? \n",
    "\n",
    "*  The answer is: P(X<=3) = P(X=1) + P(X=2) + P(X=3)"
   ]
  },
  {
   "cell_type": "code",
   "execution_count": 32,
   "metadata": {},
   "outputs": [
    {
     "data": {
      "text/plain": [
       "0.330078125"
      ]
     },
     "execution_count": 32,
     "metadata": {},
     "output_type": "execute_result"
    }
   ],
   "source": [
    "# P(X=1) = (1/8)\n",
    "# P(X=2) = (7/8)*(1/8)\n",
    "# P(X=3) = (7/8)*(7/8)*(1/8)\n",
    "\n",
    "(1/8) + (7/8)*(1/8) + (7/8)*(7/8)*(1/8)"
   ]
  },
  {
   "cell_type": "markdown",
   "metadata": {},
   "source": [
    "#### As you can see, this can be generalized by the following Pmf (Yes, not Pdf, as the distribution is still discrete).  Pmf of Geometric Distribution with success probability p<br> \n",
    "$${{Pr(X=k)=(1-p)^{k-1}p}}$$"
   ]
  },
  {
   "cell_type": "markdown",
   "metadata": {},
   "source": [
    "### Question 3.c: On average, how many drivers do I need to visit to get a picture ?\n",
    "\n",
    "*  Here, we need to calculate the expected value, which is inverse of the success rate. <hr>$${{ E(X) = 1/p = 1/0.125 = 8}}$$\n",
    "*  We need to visit 8 drivers on average, before we can get a picture with them."
   ]
  },
  {
   "cell_type": "code",
   "execution_count": 33,
   "metadata": {},
   "outputs": [],
   "source": [
    "# Pmf function for geometric distribution\n",
    "\n",
    "def GeometricPmf(p, i):\n",
    "    return ((1-p)**(i-1))*(p)\n",
    "\n",
    "def pltGeometricPmf(p, n):\n",
    "    pmf = []\n",
    "    for i in range(0,n):\n",
    "        pmf.append(GeometricPmf(p, i))\n",
    "    \n",
    "    plt.title(\"Probability Mass Function\")\n",
    "    plt.xlabel(\"Number of Drivers\")\n",
    "    plt.plot(np.arange(0,n), pmf)"
   ]
  },
  {
   "cell_type": "code",
   "execution_count": 34,
   "metadata": {},
   "outputs": [
    {
     "data": {
      "image/png": "[encoded data removed]",
      "text/plain": [
       "<Figure size 432x288 with 1 Axes>"
      ]
     },
     "metadata": {
      "needs_background": "light"
     },
     "output_type": "display_data"
    }
   ],
   "source": [
    "pltGeometricPmf(0.125, 15)"
   ]
  },
  {
   "cell_type": "markdown",
   "metadata": {},
   "source": [
    "### How is Geometric distribution different from Binomial distribution ?\n",
    "\n",
    "* Geometric distribution is a special case of Negative Binomial distribution. It is used to model the <em> first </em> success after (n-1) unsuccessful trials.\n",
    "* Binomial/ Poisson distributions do not consider the order of success/ faliure (all combinations of successes and faliures are considered)."
   ]
  },
  {
   "cell_type": "code",
   "execution_count": 35,
   "metadata": {},
   "outputs": [
    {
     "data": {
      "text/html": [
       "<div>\n",
       "<style scoped>\n",
       "    .dataframe tbody tr th:only-of-type {\n",
       "        vertical-align: middle;\n",
       "    }\n",
       "\n",
       "    .dataframe tbody tr th {\n",
       "        vertical-align: top;\n",
       "    }\n",
       "\n",
       "    .dataframe thead th {\n",
       "        text-align: right;\n",
       "    }\n",
       "</style>\n",
       "<table border=\"1\" class=\"dataframe\">\n",
       "  <thead>\n",
       "    <tr style=\"text-align: right;\">\n",
       "      <th></th>\n",
       "      <th>Distribution Name</th>\n",
       "      <th>Type</th>\n",
       "      <th>Domain</th>\n",
       "      <th>Parameters</th>\n",
       "      <th>Mean</th>\n",
       "      <th>Variance</th>\n",
       "    </tr>\n",
       "  </thead>\n",
       "  <tbody>\n",
       "    <tr>\n",
       "      <th>0</th>\n",
       "      <td>Binomial</td>\n",
       "      <td>Discrete</td>\n",
       "      <td>Discrete</td>\n",
       "      <td>n, p: [0,1],(# of events),(% success),</td>\n",
       "      <td>np</td>\n",
       "      <td>np (1 - p)</td>\n",
       "    </tr>\n",
       "    <tr>\n",
       "      <th>1</th>\n",
       "      <td>Poisson</td>\n",
       "      <td>Discrete</td>\n",
       "      <td>Continuous</td>\n",
       "      <td>λ &gt; 0 (Event Rate)</td>\n",
       "      <td>λ</td>\n",
       "      <td>λ</td>\n",
       "    </tr>\n",
       "    <tr>\n",
       "      <th>2</th>\n",
       "      <td>Geometric</td>\n",
       "      <td>Discrete</td>\n",
       "      <td>Discrete</td>\n",
       "      <td>p: [0,1], (% success)</td>\n",
       "      <td>1/p</td>\n",
       "      <td>(1-p)/p**2</td>\n",
       "    </tr>\n",
       "  </tbody>\n",
       "</table>\n",
       "</div>"
      ],
      "text/plain": [
       "  Distribution Name      Type      Domain  \\\n",
       "0          Binomial  Discrete    Discrete   \n",
       "1           Poisson  Discrete  Continuous   \n",
       "2         Geometric  Discrete    Discrete   \n",
       "\n",
       "                               Parameters Mean    Variance  \n",
       "0  n, p: [0,1],(# of events),(% success),   np  np (1 - p)  \n",
       "1                      λ > 0 (Event Rate)    λ           λ  \n",
       "2                   p: [0,1], (% success)  1/p  (1-p)/p**2  "
      ]
     },
     "execution_count": 35,
     "metadata": {},
     "output_type": "execute_result"
    }
   ],
   "source": [
    "df_distribution_details_update1 = pd.DataFrame([['Geometric','Discrete','Discrete',\n",
    "                                            'p: [0,1], (% success)','1/p','(1-p)/p**2']],\n",
    "                                               columns=df_distribution_details.columns.tolist(),\n",
    "                                            )\n",
    "\n",
    "df_distribution_details = pd.concat([df_distribution_details, \n",
    "                                     df_distribution_details_update1]).reset_index(drop=True)\n",
    "\n",
    "df_distribution_details"
   ]
  },
  {
   "cell_type": "markdown",
   "metadata": {},
   "source": [
    "#### Special access passes to the Formula 1 race weekends grants time for kids to interact with the drivers. Each kid gets to spend around 10 minutes with any of the 20 drivers on the grid.  \n",
    "\n",
    "## Question 4: What is the chance that a kid gets to meet Sebastian for 10-15 minutes ?"
   ]
  },
  {
   "cell_type": "markdown",
   "metadata": {},
   "source": [
    "* For this sort of question, where we need to find probability of events in continous domain, we use Exponential distribution. Essentially, exponential distribution is used to model events, but also considers variability in the time period.\n",
    "\n",
    "*  We know that the average time a driver spends with a kid is 10 minutes. We use λ, which is inverse of mean. Hence, λ = 1/10."
   ]
  },
  {
   "cell_type": "markdown",
   "metadata": {},
   "source": [
    "##  Exponential Distribution "
   ]
  },
  {
   "cell_type": "markdown",
   "metadata": {},
   "source": [
    "#### The Pdf (Yes, not Pmf, as the distribution is still continuous).  Pdf of Exponential Distribution is<br> \n",
    "$${{P(X=x)=λe^{-λx}}}$$"
   ]
  },
  {
   "cell_type": "code",
   "execution_count": 36,
   "metadata": {},
   "outputs": [],
   "source": [
    "# Pdf function for exponential distribution\n",
    "\n",
    "def ExponentialPdf(lambda_value, i):\n",
    "    return (lambda_value*(math.exp(-lambda_value*i)))\n",
    "\n",
    "def pltExponentialPdf(lambda_value, n):\n",
    "    pdf = []\n",
    "    for i in range(0,n):\n",
    "        pdf.append(ExponentialPdf(lambda_value, i))\n",
    "    \n",
    "    plt.title(\"Probability Density Function\")\n",
    "    plt.xlabel(\"Number of Minutes\")\n",
    "    plt.plot(np.arange(0,n), pdf)"
   ]
  },
  {
   "cell_type": "code",
   "execution_count": 37,
   "metadata": {},
   "outputs": [
    {
     "data": {
      "image/png": "[encoded data removed]",
      "text/plain": [
       "<Figure size 432x288 with 1 Axes>"
      ]
     },
     "metadata": {
      "needs_background": "light"
     },
     "output_type": "display_data"
    }
   ],
   "source": [
    "pltExponentialPdf(0.1, 20)"
   ]
  },
  {
   "cell_type": "markdown",
   "metadata": {},
   "source": [
    "#### To answer the above question, i.e., the chance to meet Sebastian for 10-15 minutes, can be found using the following:\n",
    "\n",
    "#### P(10<X<15) = P(X<15) - P(X<10) = Difference of CDF till 15th minute - CDF till 10th minute."
   ]
  },
  {
   "cell_type": "code",
   "execution_count": 38,
   "metadata": {},
   "outputs": [
    {
     "data": {
      "text/plain": [
       "0.14474928102301254"
      ]
     },
     "execution_count": 38,
     "metadata": {},
     "output_type": "execute_result"
    }
   ],
   "source": [
    "lambda_value = 0.1\n",
    "\n",
    "P_10_15 = (1-math.exp(-lambda_value*15)) - (1-math.exp(-lambda_value*10))\n",
    "P_10_15"
   ]
  },
  {
   "cell_type": "markdown",
   "metadata": {},
   "source": [
    "#### Hence, there is 15 % chance that the kid will spend 10-15 minutes with the driver. "
   ]
  },
  {
   "cell_type": "markdown",
   "metadata": {},
   "source": [
    "### Why Exponential Distribution ? Why not anything else ?\n",
    "\n",
    "* A poisson distribution is used to understand number of events over a large period of time (with a rate lambda), discrete events in continuous domain. \n",
    "*  However, exponential distribution explains the variability within the time period, which cannot be modelled by other distributions !\n",
    "* With continuous domains, using 'Cumulative' approach to forming and understanding problems is much easier."
   ]
  },
  {
   "cell_type": "code",
   "execution_count": 39,
   "metadata": {},
   "outputs": [
    {
     "data": {
      "text/html": [
       "<div>\n",
       "<style scoped>\n",
       "    .dataframe tbody tr th:only-of-type {\n",
       "        vertical-align: middle;\n",
       "    }\n",
       "\n",
       "    .dataframe tbody tr th {\n",
       "        vertical-align: top;\n",
       "    }\n",
       "\n",
       "    .dataframe thead th {\n",
       "        text-align: right;\n",
       "    }\n",
       "</style>\n",
       "<table border=\"1\" class=\"dataframe\">\n",
       "  <thead>\n",
       "    <tr style=\"text-align: right;\">\n",
       "      <th></th>\n",
       "      <th>Distribution Name</th>\n",
       "      <th>Type</th>\n",
       "      <th>Domain</th>\n",
       "      <th>Parameters</th>\n",
       "      <th>Mean</th>\n",
       "      <th>Variance</th>\n",
       "    </tr>\n",
       "  </thead>\n",
       "  <tbody>\n",
       "    <tr>\n",
       "      <th>0</th>\n",
       "      <td>Binomial</td>\n",
       "      <td>Discrete</td>\n",
       "      <td>Discrete</td>\n",
       "      <td>n, p: [0,1],(# of events),(% success),</td>\n",
       "      <td>np</td>\n",
       "      <td>np (1 - p)</td>\n",
       "    </tr>\n",
       "    <tr>\n",
       "      <th>1</th>\n",
       "      <td>Poisson</td>\n",
       "      <td>Discrete</td>\n",
       "      <td>Continuous</td>\n",
       "      <td>λ &gt; 0 (Event Rate)</td>\n",
       "      <td>λ</td>\n",
       "      <td>λ</td>\n",
       "    </tr>\n",
       "    <tr>\n",
       "      <th>2</th>\n",
       "      <td>Geometric</td>\n",
       "      <td>Discrete</td>\n",
       "      <td>Discrete</td>\n",
       "      <td>p: [0,1], (% success)</td>\n",
       "      <td>1/p</td>\n",
       "      <td>(1-p)/p**2</td>\n",
       "    </tr>\n",
       "    <tr>\n",
       "      <th>3</th>\n",
       "      <td>Exponential</td>\n",
       "      <td>Continuous</td>\n",
       "      <td>Continuous</td>\n",
       "      <td>λ</td>\n",
       "      <td>1/λ</td>\n",
       "      <td>λ**-2</td>\n",
       "    </tr>\n",
       "  </tbody>\n",
       "</table>\n",
       "</div>"
      ],
      "text/plain": [
       "  Distribution Name        Type      Domain  \\\n",
       "0          Binomial    Discrete    Discrete   \n",
       "1           Poisson    Discrete  Continuous   \n",
       "2         Geometric    Discrete    Discrete   \n",
       "3       Exponential  Continuous  Continuous   \n",
       "\n",
       "                               Parameters Mean    Variance  \n",
       "0  n, p: [0,1],(# of events),(% success),   np  np (1 - p)  \n",
       "1                      λ > 0 (Event Rate)    λ           λ  \n",
       "2                   p: [0,1], (% success)  1/p  (1-p)/p**2  \n",
       "3                                       λ  1/λ       λ**-2  "
      ]
     },
     "execution_count": 39,
     "metadata": {},
     "output_type": "execute_result"
    }
   ],
   "source": [
    "df_distribution_details_update2 = pd.DataFrame([['Exponential','Continuous','Continuous',\n",
    "                                            'λ','1/λ','λ**-2']],\n",
    "                                               columns=df_distribution_details.columns.tolist(),\n",
    "                                            )\n",
    "\n",
    "df_distribution_details = pd.concat([df_distribution_details, \n",
    "                                     df_distribution_details_update2]).reset_index(drop=True)\n",
    "\n",
    "df_distribution_details"
   ]
  },
  {
   "cell_type": "markdown",
   "metadata": {},
   "source": [
    "### Uniform distributions and Normal distributions are used to model other common problems. Gaussian normal distribution occurs in many cases (What time you wake up, time taken to finish a statistics problem, height of people in a room). We will also take a deeper look at Hypothesis testing, and how it can form as an important base in Experimentation and Decision making."
   ]
  }
 ],
 "metadata": {
  "kernelspec": {
   "display_name": "Python 3",
   "language": "python",
   "name": "python3"
  },
  "language_info": {
   "codemirror_mode": {
    "name": "ipython",
    "version": 3
   },
   "file_extension": ".py",
   "mimetype": "text/x-python",
   "name": "python",
   "nbconvert_exporter": "python",
   "pygments_lexer": "ipython3",
   "version": "3.7.1"
  }
 },
 "nbformat": 4,
 "nbformat_minor": 2
}
